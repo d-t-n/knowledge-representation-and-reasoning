{
 "cells": [
  {
   "cell_type": "markdown",
   "metadata": {},
   "source": [
    "## Project 5. Apply KRR systems to challenging real-world problems\n"
   ]
  },
  {
   "cell_type": "markdown",
   "metadata": {},
   "source": [
    "Here are four comprehensive Python code projects that apply Knowledge Representation and Reasoning (KRR) systems to the challenging real-world problems "
   ]
  },
  {
   "cell_type": "markdown",
   "metadata": {},
   "source": [
    "### 1. Healthcare Medical Diagnoses using Ontologies:\n"
   ]
  },
  {
   "cell_type": "markdown",
   "metadata": {},
   "source": [
    "In this project, we'll create an ontology-based medical diagnosis system to intelligently diagnose diseases based on symptoms and patient history."
   ]
  },
  {
   "cell_type": "code",
   "execution_count": 11,
   "metadata": {},
   "outputs": [
    {
     "name": "stdout",
     "output_type": "stream",
     "text": [
      "Diagnosed Disease:\n",
      "No diagnosed diseases\n"
     ]
    }
   ],
   "source": [
    "from owlready2 import *\n",
    "\n",
    "# Load the Human Phenotype Ontology (HPO) ontology\n",
    "onto_path.append(\"files\")\n",
    "onto = get_ontology(\"http://purl.obolibrary.org/obo/hp.owl\").load()\n",
    "\n",
    "# Define classes and relationships in the ontology\n",
    "class Symptom(Thing):\n",
    "    ontology = onto\n",
    "\n",
    "class Disease(Thing):\n",
    "    ontology = onto\n",
    "    hasSymptom = ObjectProperty()\n",
    "\n",
    "# Load patient data\n",
    "patient_symptoms = [\"fever\", \"cough\"]\n",
    "\n",
    "# Perform reasoning to diagnose diseases\n",
    "def diagnose_diseases(patient_symptoms):\n",
    "    diagnosed_diseases = []\n",
    "    for symptom in patient_symptoms:\n",
    "        for disease in Disease.instances():\n",
    "            if symptom in disease.hasSymptom:\n",
    "                diagnosed_diseases.append(disease)\n",
    "\n",
    "    if len(diagnosed_diseases) > 0:\n",
    "        return diagnosed_diseases[0]\n",
    "    else:\n",
    "        return None\n",
    "\n",
    "diagnosed_diseases = diagnose_diseases(patient_symptoms)\n",
    "\n",
    "print(\"Diagnosed Disease:\")\n",
    "if diagnosed_diseases is not None:\n",
    "    print(diagnosed_diseases)\n",
    "else:\n",
    "    print(\"No diagnosed diseases\")"
   ]
  },
  {
   "cell_type": "markdown",
   "metadata": {},
   "source": [
    "### 2. Industrial Automation with KRR:\n",
    "This project focuses on using KRR systems to optimize industrial processes and equipment management in manufacturing plants."
   ]
  },
  {
   "cell_type": "code",
   "execution_count": 12,
   "metadata": {},
   "outputs": [
    {
     "name": "stdout",
     "output_type": "stream",
     "text": [
      "Machine1 is operational. Proceed with production.\n",
      "Machine2 is under maintenance. Pause production.\n"
     ]
    }
   ],
   "source": [
    "# Define rules for equipment states and maintenance schedules\n",
    "rules = {\n",
    "    \"Machine1\": {\"state\": \"operational\", \"maintenance\": \"2023-01-15\"},\n",
    "    \"Machine2\": {\"state\": \"maintenance\", \"maintenance\": \"2023-02-10\"},\n",
    "    # ... more rules\n",
    "}\n",
    "\n",
    "# Simulate manufacturing process\n",
    "def simulate_manufacturing_process(machine):\n",
    "    if rules[machine][\"state\"] == \"operational\":\n",
    "        print(f\"{machine} is operational. Proceed with production.\")\n",
    "    else:\n",
    "        print(f\"{machine} is under maintenance. Pause production.\")\n",
    "\n",
    "# Run simulation\n",
    "for machine in rules.keys():\n",
    "    simulate_manufacturing_process(machine)\n"
   ]
  },
  {
   "cell_type": "markdown",
   "metadata": {},
   "source": [
    "### 3. Natural Language Processing with KRR:\n",
    "In this project, we'll create a semantic graph-based chatbot that provides contextually relevant responses."
   ]
  },
  {
   "cell_type": "code",
   "execution_count": 1,
   "metadata": {},
   "outputs": [
    {
     "name": "stdout",
     "output_type": "stream",
     "text": [
      "Chatbot: Greeting!\n",
      "Chatbot: I'm sorry, I don't understand.\n",
      "Chatbot: Goodbye!\n",
      "Chatbot: I'm sorry, I don't understand.\n"
     ]
    }
   ],
   "source": [
    "# Create a semantic graph\n",
    "semantic_graph = {\n",
    "    \"greeting\": [\"hello\", \"hi\", \"hey\"],\n",
    "    \"goodbye\": [\"bye\", \"see you\", \"farewell\"],\n",
    "    # ... more relationships\n",
    "}\n",
    "\n",
    "# Chatbot function\n",
    "def chatbot(input_text):\n",
    "    for intent, keywords in semantic_graph.items():\n",
    "        for keyword in keywords:\n",
    "            if keyword in input_text.lower():\n",
    "                return f\"Chatbot: {intent.capitalize()}!\"\n",
    "    return \"Chatbot: I'm sorry, I don't understand.\"\n",
    "\n",
    "# User interaction loop\n",
    "while True:\n",
    "    user_input = input(\"You: \")\n",
    "    if user_input.lower() == \"exit\":\n",
    "        print(\"Chatbot: Goodbye!\")\n",
    "        break\n",
    "    response = chatbot(user_input)\n",
    "    print(response)\n"
   ]
  },
  {
   "cell_type": "markdown",
   "metadata": {},
   "source": [
    "### 4. Environmental Monitoring and Disaster Response with KRR:\n",
    "This project involves creating an ontology-based system to predict and manage natural disasters."
   ]
  },
  {
   "cell_type": "code",
   "execution_count": null,
   "metadata": {},
   "outputs": [],
   "source": []
  }
 ],
 "metadata": {
  "kernelspec": {
   "display_name": "tf",
   "language": "python",
   "name": "python3"
  },
  "language_info": {
   "name": "python",
   "version": "3.10.10"
  },
  "orig_nbformat": 4
 },
 "nbformat": 4,
 "nbformat_minor": 2
}
