{
 "cells": [
  {
   "cell_type": "markdown",
   "metadata": {},
   "source": [
    "## Project 5. Apply KRR systems to challenging real-world problems\n"
   ]
  },
  {
   "cell_type": "markdown",
   "metadata": {},
   "source": [
    "Here are four comprehensive Python code projects that apply Knowledge Representation and Reasoning (KRR) systems to the challenging real-world problems "
   ]
  },
  {
   "cell_type": "markdown",
   "metadata": {},
   "source": [
    "### 1. Healthcare Medical Diagnoses using Ontologies:\n"
   ]
  },
  {
   "cell_type": "markdown",
   "metadata": {},
   "source": [
    "In this project, we'll create an ontology-based medical diagnosis system to intelligently diagnose diseases based on symptoms and patient history."
   ]
  },
  {
   "cell_type": "code",
   "execution_count": 11,
   "metadata": {},
   "outputs": [
    {
     "name": "stdout",
     "output_type": "stream",
     "text": [
      "Diagnosed Disease:\n",
      "No diagnosed diseases\n"
     ]
    }
   ],
   "source": [
    "from owlready2 import *\n",
    "\n",
    "# Load the Human Phenotype Ontology (HPO) ontology\n",
    "onto_path.append(\"files\")\n",
    "onto = get_ontology(\"http://purl.obolibrary.org/obo/hp.owl\").load()\n",
    "\n",
    "# Define classes and relationships in the ontology\n",
    "class Symptom(Thing):\n",
    "    ontology = onto\n",
    "\n",
    "class Disease(Thing):\n",
    "    ontology = onto\n",
    "    hasSymptom = ObjectProperty()\n",
    "\n",
    "# Load patient data\n",
    "patient_symptoms = [\"fever\", \"cough\"]\n",
    "\n",
    "# Perform reasoning to diagnose diseases\n",
    "def diagnose_diseases(patient_symptoms):\n",
    "    diagnosed_diseases = []\n",
    "    for symptom in patient_symptoms:\n",
    "        for disease in Disease.instances():\n",
    "            if symptom in disease.hasSymptom:\n",
    "                diagnosed_diseases.append(disease)\n",
    "\n",
    "    if len(diagnosed_diseases) > 0:\n",
    "        return diagnosed_diseases[0]\n",
    "    else:\n",
    "        return None\n",
    "\n",
    "diagnosed_diseases = diagnose_diseases(patient_symptoms)\n",
    "\n",
    "print(\"Diagnosed Disease:\")\n",
    "if diagnosed_diseases is not None:\n",
    "    print(diagnosed_diseases)\n",
    "else:\n",
    "    print(\"No diagnosed diseases\")"
   ]
  },
  {
   "cell_type": "markdown",
   "metadata": {},
   "source": [
    "### 2. Industrial Automation with KRR:\n",
    "This project focuses on using KRR systems to optimize industrial processes and equipment management in manufacturing plants."
   ]
  },
  {
   "cell_type": "code",
   "execution_count": 12,
   "metadata": {},
   "outputs": [
    {
     "name": "stdout",
     "output_type": "stream",
     "text": [
      "Machine1 is operational. Proceed with production.\n",
      "Machine2 is under maintenance. Pause production.\n"
     ]
    }
   ],
   "source": [
    "# Define rules for equipment states and maintenance schedules\n",
    "rules = {\n",
    "    \"Machine1\": {\"state\": \"operational\", \"maintenance\": \"2023-01-15\"},\n",
    "    \"Machine2\": {\"state\": \"maintenance\", \"maintenance\": \"2023-02-10\"},\n",
    "    # ... more rules\n",
    "}\n",
    "\n",
    "# Simulate manufacturing process\n",
    "def simulate_manufacturing_process(machine):\n",
    "    if rules[machine][\"state\"] == \"operational\":\n",
    "        print(f\"{machine} is operational. Proceed with production.\")\n",
    "    else:\n",
    "        print(f\"{machine} is under maintenance. Pause production.\")\n",
    "\n",
    "# Run simulation\n",
    "for machine in rules.keys():\n",
    "    simulate_manufacturing_process(machine)\n"
   ]
  },
  {
   "cell_type": "markdown",
   "metadata": {},
   "source": [
    "### 3. Natural Language Processing with KRR:\n",
    "In this project, we'll create a semantic graph-based chatbot that provides contextually relevant responses."
   ]
  },
  {
   "cell_type": "code",
   "execution_count": 1,
   "metadata": {},
   "outputs": [
    {
     "name": "stdout",
     "output_type": "stream",
     "text": [
      "Chatbot: Greeting!\n",
      "Chatbot: I'm sorry, I don't understand.\n",
      "Chatbot: Goodbye!\n",
      "Chatbot: I'm sorry, I don't understand.\n"
     ]
    }
   ],
   "source": [
    "# Create a semantic graph\n",
    "semantic_graph = {\n",
    "    \"greeting\": [\"hello\", \"hi\", \"hey\"],\n",
    "    \"goodbye\": [\"bye\", \"see you\", \"farewell\"],\n",
    "    # ... more relationships\n",
    "}\n",
    "\n",
    "# Chatbot function\n",
    "def chatbot(input_text):\n",
    "    for intent, keywords in semantic_graph.items():\n",
    "        for keyword in keywords:\n",
    "            if keyword in input_text.lower():\n",
    "                return f\"Chatbot: {intent.capitalize()}!\"\n",
    "    return \"Chatbot: I'm sorry, I don't understand.\"\n",
    "\n",
    "# User interaction loop\n",
    "while True:\n",
    "    user_input = input(\"You: \")\n",
    "    if user_input.lower() == \"exit\":\n",
    "        print(\"Chatbot: Goodbye!\")\n",
    "        break\n",
    "    response = chatbot(user_input)\n",
    "    print(response)\n"
   ]
  },
  {
   "cell_type": "markdown",
   "metadata": {},
   "source": [
    "### 4. Environmental Monitoring and Disaster Response with KRR:\n",
    "This project involves creating an ontology-based system to predict and manage natural disasters."
   ]
  },
  {
   "cell_type": "code",
   "execution_count": 1,
   "metadata": {},
   "outputs": [
    {
     "name": "stderr",
     "output_type": "stream",
     "text": [
      "\n",
      "Warning: SQLite3 version 3.40.0 and 3.41.2 have huge performance regressions; please install version 3.41.1 or 3.42!\n",
      "\n"
     ]
    },
    {
     "ename": "OwlReadyOntologyParsingError",
     "evalue": "Cannot download 'http://example.org/environmental_ontology.owl'!",
     "output_type": "error",
     "traceback": [
      "\u001b[0;31m---------------------------------------------------------------------------\u001b[0m",
      "\u001b[0;31mHTTPError\u001b[0m                                 Traceback (most recent call last)",
      "File \u001b[0;32m~/opt/anaconda3/envs/tf/lib/python3.10/site-packages/owlready2/namespace.py:937\u001b[0m, in \u001b[0;36mOntology.load\u001b[0;34m(self, only_local, fileobj, reload, reload_if_newer, url, **args)\u001b[0m\n\u001b[1;32m    936\u001b[0m \u001b[39mtry\u001b[39;00m:\n\u001b[0;32m--> 937\u001b[0m   fileobj \u001b[39m=\u001b[39m urllib\u001b[39m.\u001b[39;49mrequest\u001b[39m.\u001b[39;49murlopen(url \u001b[39mor\u001b[39;49;00m f)\n\u001b[1;32m    938\u001b[0m \u001b[39mexcept\u001b[39;00m:\n",
      "File \u001b[0;32m~/opt/anaconda3/envs/tf/lib/python3.10/urllib/request.py:216\u001b[0m, in \u001b[0;36murlopen\u001b[0;34m(url, data, timeout, cafile, capath, cadefault, context)\u001b[0m\n\u001b[1;32m    215\u001b[0m     opener \u001b[39m=\u001b[39m _opener\n\u001b[0;32m--> 216\u001b[0m \u001b[39mreturn\u001b[39;00m opener\u001b[39m.\u001b[39;49mopen(url, data, timeout)\n",
      "File \u001b[0;32m~/opt/anaconda3/envs/tf/lib/python3.10/urllib/request.py:525\u001b[0m, in \u001b[0;36mOpenerDirector.open\u001b[0;34m(self, fullurl, data, timeout)\u001b[0m\n\u001b[1;32m    524\u001b[0m     meth \u001b[39m=\u001b[39m \u001b[39mgetattr\u001b[39m(processor, meth_name)\n\u001b[0;32m--> 525\u001b[0m     response \u001b[39m=\u001b[39m meth(req, response)\n\u001b[1;32m    527\u001b[0m \u001b[39mreturn\u001b[39;00m response\n",
      "File \u001b[0;32m~/opt/anaconda3/envs/tf/lib/python3.10/urllib/request.py:634\u001b[0m, in \u001b[0;36mHTTPErrorProcessor.http_response\u001b[0;34m(self, request, response)\u001b[0m\n\u001b[1;32m    633\u001b[0m \u001b[39mif\u001b[39;00m \u001b[39mnot\u001b[39;00m (\u001b[39m200\u001b[39m \u001b[39m<\u001b[39m\u001b[39m=\u001b[39m code \u001b[39m<\u001b[39m \u001b[39m300\u001b[39m):\n\u001b[0;32m--> 634\u001b[0m     response \u001b[39m=\u001b[39m \u001b[39mself\u001b[39;49m\u001b[39m.\u001b[39;49mparent\u001b[39m.\u001b[39;49merror(\n\u001b[1;32m    635\u001b[0m         \u001b[39m'\u001b[39;49m\u001b[39mhttp\u001b[39;49m\u001b[39m'\u001b[39;49m, request, response, code, msg, hdrs)\n\u001b[1;32m    637\u001b[0m \u001b[39mreturn\u001b[39;00m response\n",
      "File \u001b[0;32m~/opt/anaconda3/envs/tf/lib/python3.10/urllib/request.py:563\u001b[0m, in \u001b[0;36mOpenerDirector.error\u001b[0;34m(self, proto, *args)\u001b[0m\n\u001b[1;32m    562\u001b[0m args \u001b[39m=\u001b[39m (\u001b[39mdict\u001b[39m, \u001b[39m'\u001b[39m\u001b[39mdefault\u001b[39m\u001b[39m'\u001b[39m, \u001b[39m'\u001b[39m\u001b[39mhttp_error_default\u001b[39m\u001b[39m'\u001b[39m) \u001b[39m+\u001b[39m orig_args\n\u001b[0;32m--> 563\u001b[0m \u001b[39mreturn\u001b[39;00m \u001b[39mself\u001b[39;49m\u001b[39m.\u001b[39;49m_call_chain(\u001b[39m*\u001b[39;49margs)\n",
      "File \u001b[0;32m~/opt/anaconda3/envs/tf/lib/python3.10/urllib/request.py:496\u001b[0m, in \u001b[0;36mOpenerDirector._call_chain\u001b[0;34m(self, chain, kind, meth_name, *args)\u001b[0m\n\u001b[1;32m    495\u001b[0m func \u001b[39m=\u001b[39m \u001b[39mgetattr\u001b[39m(handler, meth_name)\n\u001b[0;32m--> 496\u001b[0m result \u001b[39m=\u001b[39m func(\u001b[39m*\u001b[39;49margs)\n\u001b[1;32m    497\u001b[0m \u001b[39mif\u001b[39;00m result \u001b[39mis\u001b[39;00m \u001b[39mnot\u001b[39;00m \u001b[39mNone\u001b[39;00m:\n",
      "File \u001b[0;32m~/opt/anaconda3/envs/tf/lib/python3.10/urllib/request.py:643\u001b[0m, in \u001b[0;36mHTTPDefaultErrorHandler.http_error_default\u001b[0;34m(self, req, fp, code, msg, hdrs)\u001b[0m\n\u001b[1;32m    642\u001b[0m \u001b[39mdef\u001b[39;00m \u001b[39mhttp_error_default\u001b[39m(\u001b[39mself\u001b[39m, req, fp, code, msg, hdrs):\n\u001b[0;32m--> 643\u001b[0m     \u001b[39mraise\u001b[39;00m HTTPError(req\u001b[39m.\u001b[39mfull_url, code, msg, hdrs, fp)\n",
      "\u001b[0;31mHTTPError\u001b[0m: HTTP Error 404: Not Found",
      "\nDuring handling of the above exception, another exception occurred:\n",
      "\u001b[0;31mOwlReadyOntologyParsingError\u001b[0m              Traceback (most recent call last)",
      "Cell \u001b[0;32mIn[1], line 6\u001b[0m\n\u001b[1;32m      4\u001b[0m \u001b[39m# Load environmental ontology\u001b[39;00m\n\u001b[1;32m      5\u001b[0m onto_path\u001b[39m.\u001b[39mappend(\u001b[39m\"\u001b[39m\u001b[39mpath_to_ontology_file.owl\u001b[39m\u001b[39m\"\u001b[39m)\n\u001b[0;32m----> 6\u001b[0m onto \u001b[39m=\u001b[39m get_ontology(\u001b[39m\"\u001b[39;49m\u001b[39mhttp://example.org/environmental_ontology.owl\u001b[39;49m\u001b[39m\"\u001b[39;49m)\u001b[39m.\u001b[39;49mload()\n\u001b[1;32m      8\u001b[0m \u001b[39m# Define classes and relationships in the ontology\u001b[39;00m\n\u001b[1;32m      9\u001b[0m \u001b[39mclass\u001b[39;00m \u001b[39mFlood\u001b[39;00m(Thing):\n",
      "File \u001b[0;32m~/opt/anaconda3/envs/tf/lib/python3.10/site-packages/owlready2/namespace.py:945\u001b[0m, in \u001b[0;36mOntology.load\u001b[0;34m(self, only_local, fileobj, reload, reload_if_newer, url, **args)\u001b[0m\n\u001b[1;32m    943\u001b[0m       \u001b[39mraise\u001b[39;00m OwlReadyOntologyParsingError(\u001b[39m\"\u001b[39m\u001b[39mCannot download \u001b[39m\u001b[39m'\u001b[39m\u001b[39m%s\u001b[39;00m\u001b[39m/\u001b[39m\u001b[39m'\u001b[39m\u001b[39m!\u001b[39m\u001b[39m\"\u001b[39m \u001b[39m%\u001b[39m (url \u001b[39mor\u001b[39;00m f))\n\u001b[1;32m    944\u001b[0m   \u001b[39melse\u001b[39;00m:\n\u001b[0;32m--> 945\u001b[0m     \u001b[39mraise\u001b[39;00m OwlReadyOntologyParsingError(\u001b[39m\"\u001b[39m\u001b[39mCannot download \u001b[39m\u001b[39m'\u001b[39m\u001b[39m%s\u001b[39;00m\u001b[39m'\u001b[39m\u001b[39m!\u001b[39m\u001b[39m\"\u001b[39m \u001b[39m%\u001b[39m (url \u001b[39mor\u001b[39;00m f))\n\u001b[1;32m    946\u001b[0m \u001b[39mtry\u001b[39;00m:\n\u001b[1;32m    947\u001b[0m   new_base_iri \u001b[39m=\u001b[39m \u001b[39mself\u001b[39m\u001b[39m.\u001b[39mgraph\u001b[39m.\u001b[39mparse(fileobj, default_base \u001b[39m=\u001b[39m \u001b[39mself\u001b[39m\u001b[39m.\u001b[39m_orig_base_iri, \u001b[39m*\u001b[39m\u001b[39m*\u001b[39margs)\n",
      "\u001b[0;31mOwlReadyOntologyParsingError\u001b[0m: Cannot download 'http://example.org/environmental_ontology.owl'!"
     ]
    }
   ],
   "source": [
    "# Import necessary libraries\n",
    "from owlready2 import *\n",
    "\n",
    "# Load environmental ontology\n",
    "onto_path.append(\"path_to_ontology_file.owl\")\n",
    "onto = get_ontology(\"http://example.org/environmental_ontology.owl\").load()\n",
    "\n",
    "# Define classes and relationships in the ontology\n",
    "class Flood(Thing):\n",
    "    ontology = onto\n",
    "    hasRisk = ObjectProperty()\n",
    "    hasImpact = ObjectProperty()\n",
    "\n",
    "# Load sensor and geographical data\n",
    "sensor_data = {\"location\": \"Coordinates\", \"water_level\": 5.7}\n",
    "\n",
    "# Perform reasoning to assess flood risks and impacts\n",
    "with onto:\n",
    "    sync_reasoner()\n",
    "\n",
    "risk_level = None\n",
    "impact_level = None\n",
    "\n",
    "for flood in Flood.instances():\n",
    "    if flood.hasRisk and flood.hasImpact:\n",
    "        if sensor_data[\"water_level\"] > flood.hasRisk:\n",
    "            risk_level = flood\n",
    "            impact_level = flood.hasImpact\n",
    "\n",
    "print(f\"Risk Level: {risk_level}, Impact Level: {impact_level}\")\n"
   ]
  },
  {
   "cell_type": "code",
   "execution_count": null,
   "metadata": {},
   "outputs": [],
   "source": []
  }
 ],
 "metadata": {
  "kernelspec": {
   "display_name": "tf",
   "language": "python",
   "name": "python3"
  },
  "language_info": {
   "name": "python",
   "version": "3.10.10"
  },
  "orig_nbformat": 4
 },
 "nbformat": 4,
 "nbformat_minor": 2
}
