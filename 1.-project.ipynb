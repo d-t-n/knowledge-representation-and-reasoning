{
 "cells": [
  {
   "attachments": {},
   "cell_type": "markdown",
   "metadata": {},
   "source": [
    "# Project 1. Discuss the foundations of KRR: Q&A simple system"
   ]
  },
  {
   "attachments": {},
   "cell_type": "markdown",
   "metadata": {},
   "source": [
    "Below is an example of a Python code snippet that demonstrates the application of knowledge representation and reasoning using state-of-the-art models and techniques in the context of a basic question-answering system:"
   ]
  },
  {
   "cell_type": "code",
   "execution_count": 1,
   "metadata": {},
   "outputs": [
    {
     "ename": "ModuleNotFoundError",
     "evalue": "No module named 'spacy'",
     "output_type": "error",
     "traceback": [
      "\u001b[0;31m---------------------------------------------------------------------------\u001b[0m",
      "\u001b[0;31mModuleNotFoundError\u001b[0m                       Traceback (most recent call last)",
      "Cell \u001b[0;32mIn[1], line 1\u001b[0m\n\u001b[0;32m----> 1\u001b[0m \u001b[39mimport\u001b[39;00m \u001b[39mspacy\u001b[39;00m\n\u001b[1;32m      2\u001b[0m \u001b[39mfrom\u001b[39;00m \u001b[39mspacy\u001b[39;00m\u001b[39m.\u001b[39;00m\u001b[39mmatcher\u001b[39;00m \u001b[39mimport\u001b[39;00m Matcher\n\u001b[1;32m      4\u001b[0m \u001b[39m# Load the language model\u001b[39;00m\n",
      "\u001b[0;31mModuleNotFoundError\u001b[0m: No module named 'spacy'"
     ]
    }
   ],
   "source": [
    "import spacy\n",
    "from spacy.matcher import Matcher\n",
    "\n",
    "# Load the language model\n",
    "nlp = spacy.load(\"en_core_web_sm\")\n",
    "\n",
    "# Define a simple knowledge base\n",
    "knowledge_base = [\n",
    "    (\"What is the capital of France?\", \"Paris\"),\n",
    "    (\"Who is the president of the United States?\", \"Joe Biden\"),\n",
    "    (\"What is the largest planet in our solar system?\", \"Jupiter\"),\n",
    "]\n",
    "\n",
    "# Define a rule-based matcher\n",
    "matcher = Matcher(nlp.vocab)\n",
    "\n",
    "# Define patterns for question matching\n",
    "question_patterns = [\n",
    "    [{\"LOWER\": \"what\"}, {\"LOWER\": \"is\"}, {\"POS\": \"DET\"}, {\"LOWER\": \"capital\"}, {\"POS\": \"ADP\"}],\n",
    "    [{\"LOWER\": \"who\"}, {\"LOWER\": \"is\"}, {\"POS\": \"DET\"}, {\"LOWER\": \"president\"}, {\"POS\": \"ADP\"}],\n",
    "    [{\"LOWER\": \"what\"}, {\"LOWER\": \"is\"}, {\"POS\": \"ADJ\"}, {\"LOWER\": \"planet\"}, {\"POS\": \"ADP\"}],\n",
    "]\n",
    "\n",
    "# Add the question patterns to the matcher\n",
    "for pattern in question_patterns:\n",
    "    matcher.add(\"question\", None, pattern)\n",
    "\n",
    "# Process user input\n",
    "user_input = input(\"Ask a question: \")\n",
    "doc = nlp(user_input)\n",
    "\n",
    "# Match the question pattern in the user input\n",
    "matches = matcher(doc)\n",
    "\n",
    "if matches:\n",
    "    # Extract the matched question\n",
    "    question_start, question_end = matches[0][1:3]\n",
    "    question = doc[question_start:question_end].text.lower()\n",
    "    \n",
    "    # Search the knowledge base for an answer\n",
    "    answer = None\n",
    "    for qa_pair in knowledge_base:\n",
    "        if question in qa_pair[0].lower():\n",
    "            answer = qa_pair[1]\n",
    "            break\n",
    "    \n",
    "    # Provide the answer or inform if no answer is found\n",
    "    if answer:\n",
    "        print(\"Answer:\", answer)\n",
    "    else:\n",
    "        print(\"Sorry, I don't have an answer to that question.\")\n",
    "else:\n",
    "    print(\"Sorry, I couldn't understand the question.\")\n",
    "\n"
   ]
  },
  {
   "cell_type": "code",
   "execution_count": null,
   "metadata": {},
   "outputs": [],
   "source": []
  }
 ],
 "metadata": {
  "kernelspec": {
   "display_name": "tf",
   "language": "python",
   "name": "python3"
  },
  "language_info": {
   "codemirror_mode": {
    "name": "ipython",
    "version": 3
   },
   "file_extension": ".py",
   "mimetype": "text/x-python",
   "name": "python",
   "nbconvert_exporter": "python",
   "pygments_lexer": "ipython3",
   "version": "3.10.10"
  },
  "orig_nbformat": 4
 },
 "nbformat": 4,
 "nbformat_minor": 2
}
