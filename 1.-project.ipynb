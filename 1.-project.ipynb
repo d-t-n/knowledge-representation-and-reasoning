{
 "cells": [
  {
   "attachments": {},
   "cell_type": "markdown",
   "metadata": {},
   "source": [
    "# Project 1. Discuss the foundations of KRR: Q&A simple system"
   ]
  },
  {
   "attachments": {},
   "cell_type": "markdown",
   "metadata": {},
   "source": [
    "Below is an example of a Python code snippet that demonstrates the application of knowledge representation and reasoning using state-of-the-art models and techniques in the context of a basic question-answering system:"
   ]
  },
  {
   "cell_type": "code",
   "execution_count": 5,
   "metadata": {},
   "outputs": [],
   "source": [
    "import spacy\n",
    "from spacy.matcher import Matcher\n"
   ]
  },
  {
   "cell_type": "code",
   "execution_count": 7,
   "metadata": {},
   "outputs": [],
   "source": [
    "# Load the language model\n",
    "nlp = spacy.load(\"en_core_web_sm\")"
   ]
  },
  {
   "cell_type": "code",
   "execution_count": 10,
   "metadata": {},
   "outputs": [],
   "source": [
    "# Define a simple knowledge base\n",
    "knowledge_base = [\n",
    "    (\"What is the capital of France?\", \"Paris\"),\n",
    "    (\"Who is the president of the United States?\", \"Joe Biden\"),\n",
    "    (\"What is the largest planet in our solar system?\", \"Jupiter\")]"
   ]
  },
  {
   "cell_type": "code",
   "execution_count": 11,
   "metadata": {},
   "outputs": [],
   "source": [
    "# Define a rule-based matcher\n",
    "matcher = Matcher(nlp.vocab)"
   ]
  },
  {
   "cell_type": "code",
   "execution_count": 12,
   "metadata": {},
   "outputs": [],
   "source": [
    "# Define patterns for question matching\n",
    "question_patterns = [\n",
    "    [{\"LOWER\": \"what\"}, {\"LOWER\": \"is\"}, {\"POS\": \"DET\"}, {\"LOWER\": \"capital\"}, {\"POS\": \"ADP\"}],\n",
    "    [{\"LOWER\": \"who\"}, {\"LOWER\": \"is\"}, {\"POS\": \"DET\"}, {\"LOWER\": \"president\"}, {\"POS\": \"ADP\"}],\n",
    "    [{\"LOWER\": \"what\"}, {\"LOWER\": \"is\"}, {\"POS\": \"ADJ\"}, {\"LOWER\": \"planet\"}, {\"POS\": \"ADP\"}],\n",
    "]"
   ]
  },
  {
   "cell_type": "code",
   "execution_count": 14,
   "metadata": {},
   "outputs": [],
   "source": [
    "# Add the question patterns to the matcher\n",
    "for pattern in question_patterns:\n",
    "    matcher.add(\"question\", [pattern])"
   ]
  },
  {
   "cell_type": "code",
   "execution_count": 15,
   "metadata": {},
   "outputs": [],
   "source": [
    "# Process user input\n",
    "user_input = input(\"Ask a question: \")\n",
    "doc = nlp(user_input)"
   ]
  },
  {
   "cell_type": "code",
   "execution_count": 16,
   "metadata": {},
   "outputs": [],
   "source": [
    "\n",
    "# Match the question pattern in the user input\n",
    "matches = matcher(doc)"
   ]
  },
  {
   "cell_type": "code",
   "execution_count": 17,
   "metadata": {},
   "outputs": [
    {
     "name": "stdout",
     "output_type": "stream",
     "text": [
      "Answer: Joe Biden\n"
     ]
    }
   ],
   "source": [
    "if matches:\n",
    "    # Extract the matched question\n",
    "    question_start, question_end = matches[0][1:3]\n",
    "    question = doc[question_start:question_end].text.lower()\n",
    "    \n",
    "    # Search the knowledge base for an answer\n",
    "    answer = None\n",
    "    for qa_pair in knowledge_base:\n",
    "        if question in qa_pair[0].lower():\n",
    "            answer = qa_pair[1]\n",
    "            break\n",
    "    \n",
    "    # Provide the answer or inform if no answer is found\n",
    "    if answer:\n",
    "        print(\"Answer:\", answer)\n",
    "    else:\n",
    "        print(\"Sorry, I don't have an answer to that question.\")\n",
    "else:\n",
    "    print(\"Sorry, I couldn't understand the question.\")"
   ]
  },
  {
   "attachments": {},
   "cell_type": "markdown",
   "metadata": {},
   "source": [
    "In this code, we start by loading a pre-trained English language model using spaCy. We then define a simple knowledge base consisting of question-answer pairs. Next, we create a rule-based matcher to identify question patterns in the user input. We define patterns for different types of questions such as capital, president, and planet.\n",
    "\n",
    "When the user inputs a question, we process the input using the language model and apply the matcher to find a matching pattern. If a match is found, we extract the question text and search the knowledge base for a corresponding answer. Finally, we print the answer if found or inform the user if no answer is available.\n",
    "\n",
    "Note that this is a simplified example that focuses on the foundational concepts of KRR. In real-life applications, more sophisticated techniques, such as semantic parsing, machine learning, or knowledge graph-based approaches, may be employed to handle complex knowledge representation and reasoning tasks."
   ]
  },
  {
   "cell_type": "code",
   "execution_count": null,
   "metadata": {},
   "outputs": [],
   "source": []
  }
 ],
 "metadata": {
  "kernelspec": {
   "display_name": "tf",
   "language": "python",
   "name": "python3"
  },
  "language_info": {
   "codemirror_mode": {
    "name": "ipython",
    "version": 3
   },
   "file_extension": ".py",
   "mimetype": "text/x-python",
   "name": "python",
   "nbconvert_exporter": "python",
   "pygments_lexer": "ipython3",
   "version": "3.10.10"
  },
  "orig_nbformat": 4
 },
 "nbformat": 4,
 "nbformat_minor": 2
}
