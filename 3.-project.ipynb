{
 "cells": [
  {
   "cell_type": "markdown",
   "metadata": {},
   "source": [
    "# Project 3. Assess the tradeoff between representation and reasoning"
   ]
  },
  {
   "cell_type": "markdown",
   "metadata": {},
   "source": [
    "five Python code examples to demonstrate the tradeoff between representation and reasoning, focusing on the five categories mentioned: Expressiveness of Representation, Efficiency of Reasoning, Scalability and Complexity, Domain-Specific Considerations, and Hybrid Approaches."
   ]
  },
  {
   "cell_type": "markdown",
   "metadata": {},
   "source": [
    "## 1. Expressiveness of Representation:\n",
    "The example demonstrates the use of a more expressive representation language, such as Description Logics (DLs), to model complex relationships in a medical domain."
   ]
  },
  {
   "cell_type": "code",
   "execution_count": 1,
   "metadata": {},
   "outputs": [
    {
     "name": "stderr",
     "output_type": "stream",
     "text": [
      "\n",
      "Warning: SQLite3 version 3.40.0 and 3.41.2 have huge performance regressions; please install version 3.41.1 or 3.42!\n",
      "\n"
     ]
    },
    {
     "ename": "OwlReadyOntologyParsingError",
     "evalue": "Cannot download 'http://example.org/medical_ontology.owl'!",
     "output_type": "error",
     "traceback": [
      "\u001b[0;31m---------------------------------------------------------------------------\u001b[0m",
      "\u001b[0;31mHTTPError\u001b[0m                                 Traceback (most recent call last)",
      "File \u001b[0;32m~/opt/anaconda3/envs/tf/lib/python3.10/site-packages/owlready2/namespace.py:937\u001b[0m, in \u001b[0;36mOntology.load\u001b[0;34m(self, only_local, fileobj, reload, reload_if_newer, url, **args)\u001b[0m\n\u001b[1;32m    936\u001b[0m \u001b[39mtry\u001b[39;00m:\n\u001b[0;32m--> 937\u001b[0m   fileobj \u001b[39m=\u001b[39m urllib\u001b[39m.\u001b[39;49mrequest\u001b[39m.\u001b[39;49murlopen(url \u001b[39mor\u001b[39;49;00m f)\n\u001b[1;32m    938\u001b[0m \u001b[39mexcept\u001b[39;00m:\n",
      "File \u001b[0;32m~/opt/anaconda3/envs/tf/lib/python3.10/urllib/request.py:216\u001b[0m, in \u001b[0;36murlopen\u001b[0;34m(url, data, timeout, cafile, capath, cadefault, context)\u001b[0m\n\u001b[1;32m    215\u001b[0m     opener \u001b[39m=\u001b[39m _opener\n\u001b[0;32m--> 216\u001b[0m \u001b[39mreturn\u001b[39;00m opener\u001b[39m.\u001b[39;49mopen(url, data, timeout)\n",
      "File \u001b[0;32m~/opt/anaconda3/envs/tf/lib/python3.10/urllib/request.py:525\u001b[0m, in \u001b[0;36mOpenerDirector.open\u001b[0;34m(self, fullurl, data, timeout)\u001b[0m\n\u001b[1;32m    524\u001b[0m     meth \u001b[39m=\u001b[39m \u001b[39mgetattr\u001b[39m(processor, meth_name)\n\u001b[0;32m--> 525\u001b[0m     response \u001b[39m=\u001b[39m meth(req, response)\n\u001b[1;32m    527\u001b[0m \u001b[39mreturn\u001b[39;00m response\n",
      "File \u001b[0;32m~/opt/anaconda3/envs/tf/lib/python3.10/urllib/request.py:634\u001b[0m, in \u001b[0;36mHTTPErrorProcessor.http_response\u001b[0;34m(self, request, response)\u001b[0m\n\u001b[1;32m    633\u001b[0m \u001b[39mif\u001b[39;00m \u001b[39mnot\u001b[39;00m (\u001b[39m200\u001b[39m \u001b[39m<\u001b[39m\u001b[39m=\u001b[39m code \u001b[39m<\u001b[39m \u001b[39m300\u001b[39m):\n\u001b[0;32m--> 634\u001b[0m     response \u001b[39m=\u001b[39m \u001b[39mself\u001b[39;49m\u001b[39m.\u001b[39;49mparent\u001b[39m.\u001b[39;49merror(\n\u001b[1;32m    635\u001b[0m         \u001b[39m'\u001b[39;49m\u001b[39mhttp\u001b[39;49m\u001b[39m'\u001b[39;49m, request, response, code, msg, hdrs)\n\u001b[1;32m    637\u001b[0m \u001b[39mreturn\u001b[39;00m response\n",
      "File \u001b[0;32m~/opt/anaconda3/envs/tf/lib/python3.10/urllib/request.py:563\u001b[0m, in \u001b[0;36mOpenerDirector.error\u001b[0;34m(self, proto, *args)\u001b[0m\n\u001b[1;32m    562\u001b[0m args \u001b[39m=\u001b[39m (\u001b[39mdict\u001b[39m, \u001b[39m'\u001b[39m\u001b[39mdefault\u001b[39m\u001b[39m'\u001b[39m, \u001b[39m'\u001b[39m\u001b[39mhttp_error_default\u001b[39m\u001b[39m'\u001b[39m) \u001b[39m+\u001b[39m orig_args\n\u001b[0;32m--> 563\u001b[0m \u001b[39mreturn\u001b[39;00m \u001b[39mself\u001b[39;49m\u001b[39m.\u001b[39;49m_call_chain(\u001b[39m*\u001b[39;49margs)\n",
      "File \u001b[0;32m~/opt/anaconda3/envs/tf/lib/python3.10/urllib/request.py:496\u001b[0m, in \u001b[0;36mOpenerDirector._call_chain\u001b[0;34m(self, chain, kind, meth_name, *args)\u001b[0m\n\u001b[1;32m    495\u001b[0m func \u001b[39m=\u001b[39m \u001b[39mgetattr\u001b[39m(handler, meth_name)\n\u001b[0;32m--> 496\u001b[0m result \u001b[39m=\u001b[39m func(\u001b[39m*\u001b[39;49margs)\n\u001b[1;32m    497\u001b[0m \u001b[39mif\u001b[39;00m result \u001b[39mis\u001b[39;00m \u001b[39mnot\u001b[39;00m \u001b[39mNone\u001b[39;00m:\n",
      "File \u001b[0;32m~/opt/anaconda3/envs/tf/lib/python3.10/urllib/request.py:643\u001b[0m, in \u001b[0;36mHTTPDefaultErrorHandler.http_error_default\u001b[0;34m(self, req, fp, code, msg, hdrs)\u001b[0m\n\u001b[1;32m    642\u001b[0m \u001b[39mdef\u001b[39;00m \u001b[39mhttp_error_default\u001b[39m(\u001b[39mself\u001b[39m, req, fp, code, msg, hdrs):\n\u001b[0;32m--> 643\u001b[0m     \u001b[39mraise\u001b[39;00m HTTPError(req\u001b[39m.\u001b[39mfull_url, code, msg, hdrs, fp)\n",
      "\u001b[0;31mHTTPError\u001b[0m: HTTP Error 404: Not Found",
      "\nDuring handling of the above exception, another exception occurred:\n",
      "\u001b[0;31mOwlReadyOntologyParsingError\u001b[0m              Traceback (most recent call last)",
      "Cell \u001b[0;32mIn[1], line 4\u001b[0m\n\u001b[1;32m      1\u001b[0m \u001b[39mfrom\u001b[39;00m \u001b[39mowlready2\u001b[39;00m \u001b[39mimport\u001b[39;00m \u001b[39m*\u001b[39m\n\u001b[1;32m      3\u001b[0m \u001b[39m# Load a medical ontology using a Description Logic (DL)\u001b[39;00m\n\u001b[0;32m----> 4\u001b[0m onto \u001b[39m=\u001b[39m get_ontology(\u001b[39m\"\u001b[39;49m\u001b[39mhttp://example.org/medical_ontology.owl\u001b[39;49m\u001b[39m\"\u001b[39;49m)\u001b[39m.\u001b[39;49mload()\n\u001b[1;32m      6\u001b[0m \u001b[39m# Define complex relationships and axioms using Description Logics\u001b[39;00m\n\u001b[1;32m      7\u001b[0m \u001b[39mclass\u001b[39;00m \u001b[39mDisease\u001b[39;00m(Thing):\n",
      "File \u001b[0;32m~/opt/anaconda3/envs/tf/lib/python3.10/site-packages/owlready2/namespace.py:945\u001b[0m, in \u001b[0;36mOntology.load\u001b[0;34m(self, only_local, fileobj, reload, reload_if_newer, url, **args)\u001b[0m\n\u001b[1;32m    943\u001b[0m       \u001b[39mraise\u001b[39;00m OwlReadyOntologyParsingError(\u001b[39m\"\u001b[39m\u001b[39mCannot download \u001b[39m\u001b[39m'\u001b[39m\u001b[39m%s\u001b[39;00m\u001b[39m/\u001b[39m\u001b[39m'\u001b[39m\u001b[39m!\u001b[39m\u001b[39m\"\u001b[39m \u001b[39m%\u001b[39m (url \u001b[39mor\u001b[39;00m f))\n\u001b[1;32m    944\u001b[0m   \u001b[39melse\u001b[39;00m:\n\u001b[0;32m--> 945\u001b[0m     \u001b[39mraise\u001b[39;00m OwlReadyOntologyParsingError(\u001b[39m\"\u001b[39m\u001b[39mCannot download \u001b[39m\u001b[39m'\u001b[39m\u001b[39m%s\u001b[39;00m\u001b[39m'\u001b[39m\u001b[39m!\u001b[39m\u001b[39m\"\u001b[39m \u001b[39m%\u001b[39m (url \u001b[39mor\u001b[39;00m f))\n\u001b[1;32m    946\u001b[0m \u001b[39mtry\u001b[39;00m:\n\u001b[1;32m    947\u001b[0m   new_base_iri \u001b[39m=\u001b[39m \u001b[39mself\u001b[39m\u001b[39m.\u001b[39mgraph\u001b[39m.\u001b[39mparse(fileobj, default_base \u001b[39m=\u001b[39m \u001b[39mself\u001b[39m\u001b[39m.\u001b[39m_orig_base_iri, \u001b[39m*\u001b[39m\u001b[39m*\u001b[39margs)\n",
      "\u001b[0;31mOwlReadyOntologyParsingError\u001b[0m: Cannot download 'http://example.org/medical_ontology.owl'!"
     ]
    }
   ],
   "source": [
    "from owlready2 import *\n",
    "\n",
    "# Load a medical ontology using a Description Logic (DL)\n",
    "onto = get_ontology(\"http://example.org/medical_ontology.owl\").load()\n",
    "\n",
    "# Define complex relationships and axioms using Description Logics\n",
    "class Disease(Thing):\n",
    "    namespace = onto\n",
    "\n",
    "class Symptom(Thing):\n",
    "    namespace = onto\n",
    "\n",
    "class hasSymptom(Property):\n",
    "    namespace = onto\n",
    "    domain = [Disease]\n",
    "    range = [Symptom]\n",
    "\n",
    "# Perform reasoning to infer relationships\n",
    "sync_reasoner_pellet(infer_property_values=True, infer_data_property_values=True)\n",
    "\n",
    "# Get all diseases and their symptoms\n",
    "for disease in onto.Disease.instances():\n",
    "    print(disease.name)\n",
    "    for symptom in disease.hasSymptom:\n",
    "        print(\"   -\", symptom.name)\n"
   ]
  },
  {
   "cell_type": "markdown",
   "metadata": {},
   "source": [
    "## 2. Efficiency of Reasoning:\n",
    "The example demonstrates efficient reasoning using a less expressive representation language like propositional logic to implement a simple expert system"
   ]
  },
  {
   "cell_type": "code",
   "execution_count": 2,
   "metadata": {},
   "outputs": [
    {
     "name": "stdout",
     "output_type": "stream",
     "text": [
      "Inferred Disease: flu\n"
     ]
    }
   ],
   "source": [
    "# Define a rule-based expert system using propositional logic\n",
    "def rule1(symptoms):\n",
    "    if 'fever' in symptoms and 'cough' in symptoms:\n",
    "        return 'flu'\n",
    "    return None\n",
    "\n",
    "def rule2(symptoms):\n",
    "    if 'fever' in symptoms and 'rash' in symptoms:\n",
    "        return 'measles'\n",
    "    return None\n",
    "\n",
    "def rule3(symptoms):\n",
    "    if 'cough' in symptoms:\n",
    "        return 'cold'\n",
    "    return None\n",
    "\n",
    "# Gather symptoms from the user\n",
    "user_symptoms = ['fever', 'cough']\n",
    "\n",
    "# Apply the rules and perform reasoning\n",
    "disease = None\n",
    "for rule in [rule1, rule2, rule3]:\n",
    "    disease = rule(user_symptoms)\n",
    "    if disease:\n",
    "        break\n",
    "\n",
    "# Output the inferred disease\n",
    "print(\"Inferred Disease:\", disease)\n"
   ]
  },
  {
   "cell_type": "markdown",
   "metadata": {},
   "source": [
    "## 3. Scalability and Complexity:\n",
    "The example demonstrates the scalability of a constraint satisfaction problem using a less expressive representation for solving a Sudoku puzzle."
   ]
  },
  {
   "cell_type": "code",
   "execution_count": null,
   "metadata": {},
   "outputs": [],
   "source": []
  }
 ],
 "metadata": {
  "kernelspec": {
   "display_name": "tf",
   "language": "python",
   "name": "python3"
  },
  "language_info": {
   "codemirror_mode": {
    "name": "ipython",
    "version": 3
   },
   "file_extension": ".py",
   "mimetype": "text/x-python",
   "name": "python",
   "nbconvert_exporter": "python",
   "pygments_lexer": "ipython3",
   "version": "3.10.10"
  },
  "orig_nbformat": 4
 },
 "nbformat": 4,
 "nbformat_minor": 2
}
