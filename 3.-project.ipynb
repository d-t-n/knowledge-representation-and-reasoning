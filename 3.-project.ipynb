{
 "cells": [
  {
   "cell_type": "markdown",
   "metadata": {},
   "source": [
    "# Project 3. Assess the tradeoff between representation and reasoning"
   ]
  },
  {
   "cell_type": "markdown",
   "metadata": {},
   "source": [
    "five Python code examples to demonstrate the tradeoff between representation and reasoning, focusing on the five categories mentioned: Expressiveness of Representation, Efficiency of Reasoning, Scalability and Complexity, Domain-Specific Considerations, and Hybrid Approaches."
   ]
  },
  {
   "cell_type": "markdown",
   "metadata": {},
   "source": [
    "## 1. Expressiveness of Representation:\n",
    "The example demonstrates the use of a more expressive representation language, such as Description Logics (DLs), to model complex relationships in a medical domain."
   ]
  },
  {
   "cell_type": "code",
   "execution_count": 15,
   "metadata": {},
   "outputs": [
    {
     "name": "stderr",
     "output_type": "stream",
     "text": [
      "* Owlready2 * Running Pellet...\n",
      "    java -Xmx2000M -cp /Users/daniloneves/opt/anaconda3/envs/tf/lib/python3.10/site-packages/owlready2/pellet/httpclient-4.2.3.jar:/Users/daniloneves/opt/anaconda3/envs/tf/lib/python3.10/site-packages/owlready2/pellet/aterm-java-1.6.jar:/Users/daniloneves/opt/anaconda3/envs/tf/lib/python3.10/site-packages/owlready2/pellet/xercesImpl-2.10.0.jar:/Users/daniloneves/opt/anaconda3/envs/tf/lib/python3.10/site-packages/owlready2/pellet/slf4j-api-1.6.4.jar:/Users/daniloneves/opt/anaconda3/envs/tf/lib/python3.10/site-packages/owlready2/pellet/jena-tdb-0.10.0.jar:/Users/daniloneves/opt/anaconda3/envs/tf/lib/python3.10/site-packages/owlready2/pellet/jena-iri-0.9.5.jar:/Users/daniloneves/opt/anaconda3/envs/tf/lib/python3.10/site-packages/owlready2/pellet/owlapi-distribution-3.4.3-bin.jar:/Users/daniloneves/opt/anaconda3/envs/tf/lib/python3.10/site-packages/owlready2/pellet/jcl-over-slf4j-1.6.4.jar:/Users/daniloneves/opt/anaconda3/envs/tf/lib/python3.10/site-packages/owlready2/pellet/slf4j-log4j12-1.6.4.jar:/Users/daniloneves/opt/anaconda3/envs/tf/lib/python3.10/site-packages/owlready2/pellet/antlr-runtime-3.2.jar:/Users/daniloneves/opt/anaconda3/envs/tf/lib/python3.10/site-packages/owlready2/pellet/log4j-core-2.19.0.jar:/Users/daniloneves/opt/anaconda3/envs/tf/lib/python3.10/site-packages/owlready2/pellet/pellet-2.3.1.jar:/Users/daniloneves/opt/anaconda3/envs/tf/lib/python3.10/site-packages/owlready2/pellet/jgrapht-jdk1.5.jar:/Users/daniloneves/opt/anaconda3/envs/tf/lib/python3.10/site-packages/owlready2/pellet/commons-codec-1.6.jar:/Users/daniloneves/opt/anaconda3/envs/tf/lib/python3.10/site-packages/owlready2/pellet/antlr-3.2.jar:/Users/daniloneves/opt/anaconda3/envs/tf/lib/python3.10/site-packages/owlready2/pellet/xml-apis-1.4.01.jar:/Users/daniloneves/opt/anaconda3/envs/tf/lib/python3.10/site-packages/owlready2/pellet/log4j-1.2-api-2.19.0.jar:/Users/daniloneves/opt/anaconda3/envs/tf/lib/python3.10/site-packages/owlready2/pellet/httpcore-4.2.2.jar:/Users/daniloneves/opt/anaconda3/envs/tf/lib/python3.10/site-packages/owlready2/pellet/jena-arq-2.10.0.jar:/Users/daniloneves/opt/anaconda3/envs/tf/lib/python3.10/site-packages/owlready2/pellet/log4j-api-2.19.0.jar:/Users/daniloneves/opt/anaconda3/envs/tf/lib/python3.10/site-packages/owlready2/pellet/jena-core-2.10.0.jar pellet.Pellet realize --loader Jena --input-format N-Triples --infer-prop-values --infer-data-prop-values --ignore-imports /var/folders/47/ghgms_bn3kbc05gqnc15ny_c0000gn/T/tmp9shbpuz_\n"
     ]
    },
    {
     "ename": "OwlReadyJavaError",
     "evalue": "Java error message is:\nThe operation couldn’t be completed. Unable to locate a Java Runtime.\nPlease visit http://www.java.com for information on installing Java.\n\n",
     "output_type": "error",
     "traceback": [
      "\u001b[0;31m---------------------------------------------------------------------------\u001b[0m",
      "\u001b[0;31mCalledProcessError\u001b[0m                        Traceback (most recent call last)",
      "File \u001b[0;32m~/opt/anaconda3/envs/tf/lib/python3.10/site-packages/owlready2/reasoning.py:260\u001b[0m, in \u001b[0;36msync_reasoner_pellet\u001b[0;34m(x, infer_property_values, infer_data_property_values, debug, keep_tmp_file)\u001b[0m\n\u001b[1;32m    259\u001b[0m \u001b[39mtry\u001b[39;00m:\n\u001b[0;32m--> 260\u001b[0m   output \u001b[39m=\u001b[39m subprocess\u001b[39m.\u001b[39;49mrun(command, stdout \u001b[39m=\u001b[39;49m subprocess\u001b[39m.\u001b[39;49mPIPE, stderr \u001b[39m=\u001b[39;49m subprocess\u001b[39m.\u001b[39;49mPIPE, check \u001b[39m=\u001b[39;49m \u001b[39mTrue\u001b[39;49;00m, \u001b[39m*\u001b[39;49m\u001b[39m*\u001b[39;49m_subprocess_kargs)\u001b[39m.\u001b[39mstdout\n\u001b[1;32m    261\u001b[0m \u001b[39mexcept\u001b[39;00m subprocess\u001b[39m.\u001b[39mCalledProcessError \u001b[39mas\u001b[39;00m e:\n",
      "File \u001b[0;32m~/opt/anaconda3/envs/tf/lib/python3.10/subprocess.py:526\u001b[0m, in \u001b[0;36mrun\u001b[0;34m(input, capture_output, timeout, check, *popenargs, **kwargs)\u001b[0m\n\u001b[1;32m    525\u001b[0m     \u001b[39mif\u001b[39;00m check \u001b[39mand\u001b[39;00m retcode:\n\u001b[0;32m--> 526\u001b[0m         \u001b[39mraise\u001b[39;00m CalledProcessError(retcode, process\u001b[39m.\u001b[39margs,\n\u001b[1;32m    527\u001b[0m                                  output\u001b[39m=\u001b[39mstdout, stderr\u001b[39m=\u001b[39mstderr)\n\u001b[1;32m    528\u001b[0m \u001b[39mreturn\u001b[39;00m CompletedProcess(process\u001b[39m.\u001b[39margs, retcode, stdout, stderr)\n",
      "\u001b[0;31mCalledProcessError\u001b[0m: Command '['java', '-Xmx2000M', '-cp', '/Users/daniloneves/opt/anaconda3/envs/tf/lib/python3.10/site-packages/owlready2/pellet/httpclient-4.2.3.jar:/Users/daniloneves/opt/anaconda3/envs/tf/lib/python3.10/site-packages/owlready2/pellet/aterm-java-1.6.jar:/Users/daniloneves/opt/anaconda3/envs/tf/lib/python3.10/site-packages/owlready2/pellet/xercesImpl-2.10.0.jar:/Users/daniloneves/opt/anaconda3/envs/tf/lib/python3.10/site-packages/owlready2/pellet/slf4j-api-1.6.4.jar:/Users/daniloneves/opt/anaconda3/envs/tf/lib/python3.10/site-packages/owlready2/pellet/jena-tdb-0.10.0.jar:/Users/daniloneves/opt/anaconda3/envs/tf/lib/python3.10/site-packages/owlready2/pellet/jena-iri-0.9.5.jar:/Users/daniloneves/opt/anaconda3/envs/tf/lib/python3.10/site-packages/owlready2/pellet/owlapi-distribution-3.4.3-bin.jar:/Users/daniloneves/opt/anaconda3/envs/tf/lib/python3.10/site-packages/owlready2/pellet/jcl-over-slf4j-1.6.4.jar:/Users/daniloneves/opt/anaconda3/envs/tf/lib/python3.10/site-packages/owlready2/pellet/slf4j-log4j12-1.6.4.jar:/Users/daniloneves/opt/anaconda3/envs/tf/lib/python3.10/site-packages/owlready2/pellet/antlr-runtime-3.2.jar:/Users/daniloneves/opt/anaconda3/envs/tf/lib/python3.10/site-packages/owlready2/pellet/log4j-core-2.19.0.jar:/Users/daniloneves/opt/anaconda3/envs/tf/lib/python3.10/site-packages/owlready2/pellet/pellet-2.3.1.jar:/Users/daniloneves/opt/anaconda3/envs/tf/lib/python3.10/site-packages/owlready2/pellet/jgrapht-jdk1.5.jar:/Users/daniloneves/opt/anaconda3/envs/tf/lib/python3.10/site-packages/owlready2/pellet/commons-codec-1.6.jar:/Users/daniloneves/opt/anaconda3/envs/tf/lib/python3.10/site-packages/owlready2/pellet/antlr-3.2.jar:/Users/daniloneves/opt/anaconda3/envs/tf/lib/python3.10/site-packages/owlready2/pellet/xml-apis-1.4.01.jar:/Users/daniloneves/opt/anaconda3/envs/tf/lib/python3.10/site-packages/owlready2/pellet/log4j-1.2-api-2.19.0.jar:/Users/daniloneves/opt/anaconda3/envs/tf/lib/python3.10/site-packages/owlready2/pellet/httpcore-4.2.2.jar:/Users/daniloneves/opt/anaconda3/envs/tf/lib/python3.10/site-packages/owlready2/pellet/jena-arq-2.10.0.jar:/Users/daniloneves/opt/anaconda3/envs/tf/lib/python3.10/site-packages/owlready2/pellet/log4j-api-2.19.0.jar:/Users/daniloneves/opt/anaconda3/envs/tf/lib/python3.10/site-packages/owlready2/pellet/jena-core-2.10.0.jar', 'pellet.Pellet', 'realize', '--loader', 'Jena', '--input-format', 'N-Triples', '--infer-prop-values', '--infer-data-prop-values', '--ignore-imports', '/var/folders/47/ghgms_bn3kbc05gqnc15ny_c0000gn/T/tmp9shbpuz_']' returned non-zero exit status 1.",
      "\nDuring handling of the above exception, another exception occurred:\n",
      "\u001b[0;31mOwlReadyJavaError\u001b[0m                         Traceback (most recent call last)",
      "Cell \u001b[0;32mIn[15], line 19\u001b[0m\n\u001b[1;32m     16\u001b[0m     \u001b[39mrange\u001b[39m \u001b[39m=\u001b[39m [Symptom]\n\u001b[1;32m     18\u001b[0m \u001b[39m# Perform reasoning to infer relationships\u001b[39;00m\n\u001b[0;32m---> 19\u001b[0m sync_reasoner_pellet(infer_property_values\u001b[39m=\u001b[39;49m\u001b[39mTrue\u001b[39;49;00m, infer_data_property_values\u001b[39m=\u001b[39;49m\u001b[39mTrue\u001b[39;49;00m)\n\u001b[1;32m     21\u001b[0m \u001b[39m# Get all diseases and their symptoms\u001b[39;00m\n\u001b[1;32m     22\u001b[0m \u001b[39mfor\u001b[39;00m disease \u001b[39min\u001b[39;00m onto\u001b[39m.\u001b[39mDisease\u001b[39m.\u001b[39minstances():\n",
      "File \u001b[0;32m~/opt/anaconda3/envs/tf/lib/python3.10/site-packages/owlready2/reasoning.py:273\u001b[0m, in \u001b[0;36msync_reasoner_pellet\u001b[0;34m(x, infer_property_values, infer_data_property_values, debug, keep_tmp_file)\u001b[0m\n\u001b[1;32m    270\u001b[0m     \u001b[39mraise\u001b[39;00m OwlReadyInconsistentOntologyError(\u001b[39m\"\u001b[39m\u001b[39mJava error message is: \u001b[39m\u001b[39m%s\u001b[39;00m\u001b[39m\"\u001b[39m \u001b[39m%\u001b[39m msg)\n\u001b[1;32m    272\u001b[0m   \u001b[39melse\u001b[39;00m:\n\u001b[0;32m--> 273\u001b[0m     \u001b[39mraise\u001b[39;00m OwlReadyJavaError(\u001b[39m\"\u001b[39m\u001b[39mJava error message is:\u001b[39m\u001b[39m\\n\u001b[39;00m\u001b[39m%s\u001b[39;00m\u001b[39m\"\u001b[39m \u001b[39m%\u001b[39m _decode((e\u001b[39m.\u001b[39mstderr \u001b[39mor\u001b[39;00m e\u001b[39m.\u001b[39moutput \u001b[39mor\u001b[39;00m \u001b[39mb\u001b[39m\u001b[39m\"\u001b[39m\u001b[39m\"\u001b[39m)))\n\u001b[1;32m    275\u001b[0m output \u001b[39m=\u001b[39m _decode(output)\u001b[39m.\u001b[39mreplace(\u001b[39m\"\u001b[39m\u001b[39m\\r\u001b[39;00m\u001b[39m\"\u001b[39m,\u001b[39m\"\u001b[39m\u001b[39m\"\u001b[39m)\n\u001b[1;32m    277\u001b[0m \u001b[39mif\u001b[39;00m debug:\n",
      "\u001b[0;31mOwlReadyJavaError\u001b[0m: Java error message is:\nThe operation couldn’t be completed. Unable to locate a Java Runtime.\nPlease visit http://www.java.com for information on installing Java.\n\n"
     ]
    }
   ],
   "source": [
    "from owlready2 import *\n",
    "\n",
    "# Load the NCI Thesaurus medical ontology using OWL/XML format\n",
    "onto = get_ontology(\"http://ncicb.nci.nih.gov/xml/owl/EVS/Thesaurus.owl\").load(format='owl')\n",
    "\n",
    "# Define complex relationships and axioms using Description Logics\n",
    "class Disease(Thing):\n",
    "    namespace = onto\n",
    "\n",
    "class Symptom(Thing):\n",
    "    namespace = onto\n",
    "\n",
    "class hasSymptom(Property):\n",
    "    namespace = onto\n",
    "    domain = [Disease]\n",
    "    range = [Symptom]\n",
    "\n",
    "# Perform reasoning to infer relationships\n",
    "sync_reasoner_pellet(infer_property_values=True, infer_data_property_values=True)\n",
    "\n",
    "# Get all diseases and their symptoms\n",
    "for disease in onto.Disease.instances():\n",
    "    print(\"Disease:\", disease.name)\n",
    "    symptoms = list(disease.hasSymptom)\n",
    "    if symptoms:\n",
    "        print(\"   Symptoms:\")\n",
    "        for symptom in symptoms:\n",
    "            print(\"   -\", symptom.name)\n",
    "    else:\n",
    "        print(\"   No symptoms listed for this disease.\")\n"
   ]
  },
  {
   "cell_type": "markdown",
   "metadata": {},
   "source": [
    "## 2. Efficiency of Reasoning:\n",
    "The example demonstrates efficient reasoning using a less expressive representation language like propositional logic to implement a simple expert system"
   ]
  },
  {
   "cell_type": "code",
   "execution_count": 2,
   "metadata": {},
   "outputs": [
    {
     "name": "stdout",
     "output_type": "stream",
     "text": [
      "Inferred Disease: flu\n"
     ]
    }
   ],
   "source": [
    "# Define a rule-based expert system using propositional logic\n",
    "def rule1(symptoms):\n",
    "    if 'fever' in symptoms and 'cough' in symptoms:\n",
    "        return 'flu'\n",
    "    return None\n",
    "\n",
    "def rule2(symptoms):\n",
    "    if 'fever' in symptoms and 'rash' in symptoms:\n",
    "        return 'measles'\n",
    "    return None\n",
    "\n",
    "def rule3(symptoms):\n",
    "    if 'cough' in symptoms:\n",
    "        return 'cold'\n",
    "    return None\n",
    "\n",
    "# Gather symptoms from the user\n",
    "user_symptoms = ['fever', 'cough']\n",
    "\n",
    "# Apply the rules and perform reasoning\n",
    "disease = None\n",
    "for rule in [rule1, rule2, rule3]:\n",
    "    disease = rule(user_symptoms)\n",
    "    if disease:\n",
    "        break\n",
    "\n",
    "# Output the inferred disease\n",
    "print(\"Inferred Disease:\", disease)\n"
   ]
  },
  {
   "cell_type": "markdown",
   "metadata": {},
   "source": [
    "## 3. Scalability and Complexity:\n",
    "The example demonstrates the scalability of a constraint satisfaction problem using a less expressive representation for solving a Sudoku puzzle."
   ]
  },
  {
   "cell_type": "code",
   "execution_count": 14,
   "metadata": {},
   "outputs": [
    {
     "name": "stdout",
     "output_type": "stream",
     "text": [
      "5 3 4 6 7 8 9 1 2 \n",
      "6 7 2 1 9 5 3 4 8 \n",
      "1 9 8 3 4 2 5 6 7 \n",
      "8 5 9 7 6 1 4 2 3 \n",
      "4 2 6 8 5 3 7 9 1 \n",
      "7 1 3 9 2 4 8 5 6 \n",
      "9 6 1 5 3 7 2 8 4 \n",
      "2 8 7 4 1 9 6 3 5 \n",
      "3 4 5 2 8 6 1 7 9 \n"
     ]
    }
   ],
   "source": [
    "from constraint import Problem, AllDifferentConstraint, BacktrackingSolver\n",
    "\n",
    "# Create a constraint satisfaction problem for Sudoku\n",
    "problem = Problem(solver=BacktrackingSolver())\n",
    "\n",
    "# Define variables and domains for each cell\n",
    "for row in range(9):\n",
    "    for col in range(9):\n",
    "        problem.addVariable((row, col), list(range(1, 10)))\n",
    "\n",
    "# Define constraints to ensure uniqueness in rows, columns, and sub-grids\n",
    "for row in range(9):\n",
    "    problem.addConstraint(AllDifferentConstraint(), [(row, col) for col in range(9)])\n",
    "for col in range(9):\n",
    "    problem.addConstraint(AllDifferentConstraint(), [(row, col) for row in range(9)])\n",
    "for i in range(3):\n",
    "    for j in range(3):\n",
    "        problem.addConstraint(AllDifferentConstraint(), [(row, col) for row in range(i * 3, i * 3 + 3) for col in range(j * 3, j * 3 + 3)])\n",
    "\n",
    "# Set a more challenging Sudoku puzzle with more initial values\n",
    "initial_values = {\n",
    "    (0, 0): 5, (0, 1): 3, (0, 4): 7,\n",
    "    (1, 0): 6, (1, 3): 1, (1, 4): 9, (1, 5): 5,\n",
    "    (2, 1): 9, (2, 2): 8, (2, 7): 6,\n",
    "    (3, 0): 8, (3, 4): 6, (3, 8): 3,\n",
    "    (4, 0): 4, (4, 3): 8, (4, 5): 3, (4, 8): 1,\n",
    "    (5, 0): 7, (5, 4): 2, (5, 8): 6,\n",
    "    (6, 1): 6, (6, 6): 2, (6, 7): 8,\n",
    "    (7, 3): 4, (7, 4): 1, (7, 5): 9, (7, 8): 5,\n",
    "    (8, 4): 8, (8, 7): 7, (8, 8): 9,\n",
    "}\n",
    "\n",
    "# Add constraints for initial values\n",
    "for cell, value in initial_values.items():\n",
    "    problem.addConstraint(lambda cell_value, value=value: cell_value == value, (cell,))\n",
    "\n",
    "# Solve the Sudoku puzzle\n",
    "solutions = problem.getSolutions()\n",
    "\n",
    "# Print the first solution (if exists)\n",
    "if solutions:\n",
    "    solution = solutions[0]\n",
    "    for row in range(9):\n",
    "        for col in range(9):\n",
    "            print(solution[(row, col)], end=\" \")\n",
    "        print()\n",
    "else:\n",
    "    print(\"No solution found.\")\n"
   ]
  },
  {
   "cell_type": "markdown",
   "metadata": {},
   "source": [
    "## 4. Domain-Specific Considerations:\n",
    "The example demonstrates domain-specific considerations in knowledge representation by using an ontology to model geographical entities."
   ]
  },
  {
   "cell_type": "code",
   "execution_count": 13,
   "metadata": {},
   "outputs": [
    {
     "name": "stderr",
     "output_type": "stream",
     "text": [
      "* Owlready2 * Running Pellet...\n",
      "    java -Xmx2000M -cp /Users/daniloneves/opt/anaconda3/envs/tf/lib/python3.10/site-packages/owlready2/pellet/httpclient-4.2.3.jar:/Users/daniloneves/opt/anaconda3/envs/tf/lib/python3.10/site-packages/owlready2/pellet/aterm-java-1.6.jar:/Users/daniloneves/opt/anaconda3/envs/tf/lib/python3.10/site-packages/owlready2/pellet/xercesImpl-2.10.0.jar:/Users/daniloneves/opt/anaconda3/envs/tf/lib/python3.10/site-packages/owlready2/pellet/slf4j-api-1.6.4.jar:/Users/daniloneves/opt/anaconda3/envs/tf/lib/python3.10/site-packages/owlready2/pellet/jena-tdb-0.10.0.jar:/Users/daniloneves/opt/anaconda3/envs/tf/lib/python3.10/site-packages/owlready2/pellet/jena-iri-0.9.5.jar:/Users/daniloneves/opt/anaconda3/envs/tf/lib/python3.10/site-packages/owlready2/pellet/owlapi-distribution-3.4.3-bin.jar:/Users/daniloneves/opt/anaconda3/envs/tf/lib/python3.10/site-packages/owlready2/pellet/jcl-over-slf4j-1.6.4.jar:/Users/daniloneves/opt/anaconda3/envs/tf/lib/python3.10/site-packages/owlready2/pellet/slf4j-log4j12-1.6.4.jar:/Users/daniloneves/opt/anaconda3/envs/tf/lib/python3.10/site-packages/owlready2/pellet/antlr-runtime-3.2.jar:/Users/daniloneves/opt/anaconda3/envs/tf/lib/python3.10/site-packages/owlready2/pellet/log4j-core-2.19.0.jar:/Users/daniloneves/opt/anaconda3/envs/tf/lib/python3.10/site-packages/owlready2/pellet/pellet-2.3.1.jar:/Users/daniloneves/opt/anaconda3/envs/tf/lib/python3.10/site-packages/owlready2/pellet/jgrapht-jdk1.5.jar:/Users/daniloneves/opt/anaconda3/envs/tf/lib/python3.10/site-packages/owlready2/pellet/commons-codec-1.6.jar:/Users/daniloneves/opt/anaconda3/envs/tf/lib/python3.10/site-packages/owlready2/pellet/antlr-3.2.jar:/Users/daniloneves/opt/anaconda3/envs/tf/lib/python3.10/site-packages/owlready2/pellet/xml-apis-1.4.01.jar:/Users/daniloneves/opt/anaconda3/envs/tf/lib/python3.10/site-packages/owlready2/pellet/log4j-1.2-api-2.19.0.jar:/Users/daniloneves/opt/anaconda3/envs/tf/lib/python3.10/site-packages/owlready2/pellet/httpcore-4.2.2.jar:/Users/daniloneves/opt/anaconda3/envs/tf/lib/python3.10/site-packages/owlready2/pellet/jena-arq-2.10.0.jar:/Users/daniloneves/opt/anaconda3/envs/tf/lib/python3.10/site-packages/owlready2/pellet/log4j-api-2.19.0.jar:/Users/daniloneves/opt/anaconda3/envs/tf/lib/python3.10/site-packages/owlready2/pellet/jena-core-2.10.0.jar pellet.Pellet realize --loader Jena --input-format N-Triples --infer-prop-values --infer-data-prop-values --ignore-imports /var/folders/47/ghgms_bn3kbc05gqnc15ny_c0000gn/T/tmpzhgs4z84\n"
     ]
    },
    {
     "ename": "OwlReadyJavaError",
     "evalue": "Java error message is:\nThe operation couldn’t be completed. Unable to locate a Java Runtime.\nPlease visit http://www.java.com for information on installing Java.\n\n",
     "output_type": "error",
     "traceback": [
      "\u001b[0;31m---------------------------------------------------------------------------\u001b[0m",
      "\u001b[0;31mCalledProcessError\u001b[0m                        Traceback (most recent call last)",
      "File \u001b[0;32m~/opt/anaconda3/envs/tf/lib/python3.10/site-packages/owlready2/reasoning.py:260\u001b[0m, in \u001b[0;36msync_reasoner_pellet\u001b[0;34m(x, infer_property_values, infer_data_property_values, debug, keep_tmp_file)\u001b[0m\n\u001b[1;32m    259\u001b[0m \u001b[39mtry\u001b[39;00m:\n\u001b[0;32m--> 260\u001b[0m   output \u001b[39m=\u001b[39m subprocess\u001b[39m.\u001b[39;49mrun(command, stdout \u001b[39m=\u001b[39;49m subprocess\u001b[39m.\u001b[39;49mPIPE, stderr \u001b[39m=\u001b[39;49m subprocess\u001b[39m.\u001b[39;49mPIPE, check \u001b[39m=\u001b[39;49m \u001b[39mTrue\u001b[39;49;00m, \u001b[39m*\u001b[39;49m\u001b[39m*\u001b[39;49m_subprocess_kargs)\u001b[39m.\u001b[39mstdout\n\u001b[1;32m    261\u001b[0m \u001b[39mexcept\u001b[39;00m subprocess\u001b[39m.\u001b[39mCalledProcessError \u001b[39mas\u001b[39;00m e:\n",
      "File \u001b[0;32m~/opt/anaconda3/envs/tf/lib/python3.10/subprocess.py:526\u001b[0m, in \u001b[0;36mrun\u001b[0;34m(input, capture_output, timeout, check, *popenargs, **kwargs)\u001b[0m\n\u001b[1;32m    525\u001b[0m     \u001b[39mif\u001b[39;00m check \u001b[39mand\u001b[39;00m retcode:\n\u001b[0;32m--> 526\u001b[0m         \u001b[39mraise\u001b[39;00m CalledProcessError(retcode, process\u001b[39m.\u001b[39margs,\n\u001b[1;32m    527\u001b[0m                                  output\u001b[39m=\u001b[39mstdout, stderr\u001b[39m=\u001b[39mstderr)\n\u001b[1;32m    528\u001b[0m \u001b[39mreturn\u001b[39;00m CompletedProcess(process\u001b[39m.\u001b[39margs, retcode, stdout, stderr)\n",
      "\u001b[0;31mCalledProcessError\u001b[0m: Command '['java', '-Xmx2000M', '-cp', '/Users/daniloneves/opt/anaconda3/envs/tf/lib/python3.10/site-packages/owlready2/pellet/httpclient-4.2.3.jar:/Users/daniloneves/opt/anaconda3/envs/tf/lib/python3.10/site-packages/owlready2/pellet/aterm-java-1.6.jar:/Users/daniloneves/opt/anaconda3/envs/tf/lib/python3.10/site-packages/owlready2/pellet/xercesImpl-2.10.0.jar:/Users/daniloneves/opt/anaconda3/envs/tf/lib/python3.10/site-packages/owlready2/pellet/slf4j-api-1.6.4.jar:/Users/daniloneves/opt/anaconda3/envs/tf/lib/python3.10/site-packages/owlready2/pellet/jena-tdb-0.10.0.jar:/Users/daniloneves/opt/anaconda3/envs/tf/lib/python3.10/site-packages/owlready2/pellet/jena-iri-0.9.5.jar:/Users/daniloneves/opt/anaconda3/envs/tf/lib/python3.10/site-packages/owlready2/pellet/owlapi-distribution-3.4.3-bin.jar:/Users/daniloneves/opt/anaconda3/envs/tf/lib/python3.10/site-packages/owlready2/pellet/jcl-over-slf4j-1.6.4.jar:/Users/daniloneves/opt/anaconda3/envs/tf/lib/python3.10/site-packages/owlready2/pellet/slf4j-log4j12-1.6.4.jar:/Users/daniloneves/opt/anaconda3/envs/tf/lib/python3.10/site-packages/owlready2/pellet/antlr-runtime-3.2.jar:/Users/daniloneves/opt/anaconda3/envs/tf/lib/python3.10/site-packages/owlready2/pellet/log4j-core-2.19.0.jar:/Users/daniloneves/opt/anaconda3/envs/tf/lib/python3.10/site-packages/owlready2/pellet/pellet-2.3.1.jar:/Users/daniloneves/opt/anaconda3/envs/tf/lib/python3.10/site-packages/owlready2/pellet/jgrapht-jdk1.5.jar:/Users/daniloneves/opt/anaconda3/envs/tf/lib/python3.10/site-packages/owlready2/pellet/commons-codec-1.6.jar:/Users/daniloneves/opt/anaconda3/envs/tf/lib/python3.10/site-packages/owlready2/pellet/antlr-3.2.jar:/Users/daniloneves/opt/anaconda3/envs/tf/lib/python3.10/site-packages/owlready2/pellet/xml-apis-1.4.01.jar:/Users/daniloneves/opt/anaconda3/envs/tf/lib/python3.10/site-packages/owlready2/pellet/log4j-1.2-api-2.19.0.jar:/Users/daniloneves/opt/anaconda3/envs/tf/lib/python3.10/site-packages/owlready2/pellet/httpcore-4.2.2.jar:/Users/daniloneves/opt/anaconda3/envs/tf/lib/python3.10/site-packages/owlready2/pellet/jena-arq-2.10.0.jar:/Users/daniloneves/opt/anaconda3/envs/tf/lib/python3.10/site-packages/owlready2/pellet/log4j-api-2.19.0.jar:/Users/daniloneves/opt/anaconda3/envs/tf/lib/python3.10/site-packages/owlready2/pellet/jena-core-2.10.0.jar', 'pellet.Pellet', 'realize', '--loader', 'Jena', '--input-format', 'N-Triples', '--infer-prop-values', '--infer-data-prop-values', '--ignore-imports', '/var/folders/47/ghgms_bn3kbc05gqnc15ny_c0000gn/T/tmpzhgs4z84']' returned non-zero exit status 1.",
      "\nDuring handling of the above exception, another exception occurred:\n",
      "\u001b[0;31mOwlReadyJavaError\u001b[0m                         Traceback (most recent call last)",
      "Cell \u001b[0;32mIn[13], line 17\u001b[0m\n\u001b[1;32m     14\u001b[0m     \u001b[39mpass\u001b[39;00m\n\u001b[1;32m     16\u001b[0m \u001b[39m# Perform reasoning to infer relationships\u001b[39;00m\n\u001b[0;32m---> 17\u001b[0m sync_reasoner_pellet(infer_property_values\u001b[39m=\u001b[39;49m\u001b[39mTrue\u001b[39;49;00m, infer_data_property_values\u001b[39m=\u001b[39;49m\u001b[39mTrue\u001b[39;49;00m)\n\u001b[1;32m     19\u001b[0m \u001b[39m# Get the capital of a specific country\u001b[39;00m\n\u001b[1;32m     20\u001b[0m country \u001b[39m=\u001b[39m onto[\u001b[39m'\u001b[39m\u001b[39mhttp://sws.geonames.org/2921044/\u001b[39m\u001b[39m'\u001b[39m]  \u001b[39m# Germany URI in GeoNames\u001b[39;00m\n",
      "File \u001b[0;32m~/opt/anaconda3/envs/tf/lib/python3.10/site-packages/owlready2/reasoning.py:273\u001b[0m, in \u001b[0;36msync_reasoner_pellet\u001b[0;34m(x, infer_property_values, infer_data_property_values, debug, keep_tmp_file)\u001b[0m\n\u001b[1;32m    270\u001b[0m     \u001b[39mraise\u001b[39;00m OwlReadyInconsistentOntologyError(\u001b[39m\"\u001b[39m\u001b[39mJava error message is: \u001b[39m\u001b[39m%s\u001b[39;00m\u001b[39m\"\u001b[39m \u001b[39m%\u001b[39m msg)\n\u001b[1;32m    272\u001b[0m   \u001b[39melse\u001b[39;00m:\n\u001b[0;32m--> 273\u001b[0m     \u001b[39mraise\u001b[39;00m OwlReadyJavaError(\u001b[39m\"\u001b[39m\u001b[39mJava error message is:\u001b[39m\u001b[39m\\n\u001b[39;00m\u001b[39m%s\u001b[39;00m\u001b[39m\"\u001b[39m \u001b[39m%\u001b[39m _decode((e\u001b[39m.\u001b[39mstderr \u001b[39mor\u001b[39;00m e\u001b[39m.\u001b[39moutput \u001b[39mor\u001b[39;00m \u001b[39mb\u001b[39m\u001b[39m\"\u001b[39m\u001b[39m\"\u001b[39m)))\n\u001b[1;32m    275\u001b[0m output \u001b[39m=\u001b[39m _decode(output)\u001b[39m.\u001b[39mreplace(\u001b[39m\"\u001b[39m\u001b[39m\\r\u001b[39;00m\u001b[39m\"\u001b[39m,\u001b[39m\"\u001b[39m\u001b[39m\"\u001b[39m)\n\u001b[1;32m    277\u001b[0m \u001b[39mif\u001b[39;00m debug:\n",
      "\u001b[0;31mOwlReadyJavaError\u001b[0m: Java error message is:\nThe operation couldn’t be completed. Unable to locate a Java Runtime.\nPlease visit http://www.java.com for information on installing Java.\n\n"
     ]
    }
   ],
   "source": [
    "from owlready2 import *\n",
    "\n",
    "# Load the GeoNames ontology\n",
    "ontology_url = \"https://sws.geonames.org/ontology/ontology_v3.1.rdf\"\n",
    "onto = get_ontology(ontology_url).load()\n",
    "\n",
    "# Get the classes from the ontology\n",
    "Country = onto.Country\n",
    "Feature = onto.Feature\n",
    "capital_of = onto['http://www.geonames.org/ontology#capital']\n",
    "\n",
    "# Define geographical entities and their relationships\n",
    "class City(Feature):\n",
    "    pass\n",
    "\n",
    "# Perform reasoning to infer relationships\n",
    "sync_reasoner_pellet(infer_property_values=True, infer_data_property_values=True)\n",
    "\n",
    "# Get the capital of a specific country\n",
    "country = onto['http://sws.geonames.org/2921044/']  # Germany URI in GeoNames\n",
    "capital = country.capital_of[0]\n",
    "print(\"The capital of Germany is:\", capital.name)\n"
   ]
  },
  {
   "cell_type": "markdown",
   "metadata": {},
   "source": [
    "## 5. Hybrid Approaches:\n",
    "The example demonstrates a hybrid approach by combining rule-based reasoning and probabilistic modeling in a medical diagnosis system."
   ]
  },
  {
   "cell_type": "code",
   "execution_count": 6,
   "metadata": {},
   "outputs": [
    {
     "name": "stdout",
     "output_type": "stream",
     "text": [
      "Diagnosis: flu\n"
     ]
    }
   ],
   "source": [
    "import random\n",
    "\n",
    "# Define a rule-based system for medical diagnosis\n",
    "def rule1(symptoms):\n",
    "    if 'fever' in symptoms and 'cough' in symptoms:\n",
    "        return 'flu'\n",
    "    return None\n",
    "\n",
    "def rule2(symptoms):\n",
    "    if 'fever' in symptoms and 'rash' in symptoms:\n",
    "        return 'measles'\n",
    "    return None\n",
    "\n",
    "def rule3(symptoms):\n",
    "    if 'cough' in symptoms:\n",
    "        return 'cold'\n",
    "    return None\n",
    "\n",
    "# Define a probabilistic model to update the diagnosis\n",
    "def probabilistic_update(disease):\n",
    "    if disease == 'flu':\n",
    "        if random.random() < 0.8:\n",
    "            return 'flu'\n",
    "        return 'cold'\n",
    "    return disease\n",
    "\n",
    "# Gather symptoms from the user\n",
    "user_symptoms = ['fever', 'cough']\n",
    "\n",
    "# Apply the rules and perform initial reasoning\n",
    "disease = None\n",
    "for rule in [rule1, rule2, rule3]:\n",
    "    disease = rule(user_symptoms)\n",
    "    if disease:\n",
    "        break\n",
    "\n",
    "# Update the diagnosis probabilistically\n",
    "disease = probabilistic_update(disease)\n",
    "\n",
    "# Output the final diagnosis\n",
    "print(\"Diagnosis:\", disease)\n",
    "\n"
   ]
  },
  {
   "cell_type": "code",
   "execution_count": null,
   "metadata": {},
   "outputs": [],
   "source": []
  }
 ],
 "metadata": {
  "kernelspec": {
   "display_name": "tf",
   "language": "python",
   "name": "python3"
  },
  "language_info": {
   "codemirror_mode": {
    "name": "ipython",
    "version": 3
   },
   "file_extension": ".py",
   "mimetype": "text/x-python",
   "name": "python",
   "nbconvert_exporter": "python",
   "pygments_lexer": "ipython3",
   "version": "3.10.10"
  },
  "orig_nbformat": 4
 },
 "nbformat": 4,
 "nbformat_minor": 2
}
