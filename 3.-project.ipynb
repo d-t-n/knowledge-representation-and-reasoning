{
  "cells": [
    {
      "cell_type": "markdown",
      "metadata": {
        "id": "nuun37AwZVw2"
      },
      "source": [
        "# Project 3. Assess the tradeoff between representation and reasoning"
      ]
    },
    {
      "cell_type": "markdown",
      "metadata": {
        "id": "CyKxQm8XZVw4"
      },
      "source": [
        "five Python code examples to demonstrate the tradeoff between representation and reasoning, focusing on the five categories mentioned: Expressiveness of Representation, Efficiency of Reasoning, Scalability and Complexity, Domain-Specific Considerations, and Hybrid Approaches."
      ]
    },
    {
      "cell_type": "markdown",
      "metadata": {
        "id": "mqAbPc38ZVw4"
      },
      "source": [
        "## 1. Expressiveness of Representation:\n",
        "The example demonstrates the use of a more expressive representation language, such as Description Logics (DLs), to model complex relationships in a medical domain."
      ]
    },
    {
      "cell_type": "code",
      "source": [
        "!pip install owlready2\n"
      ],
      "metadata": {
        "colab": {
          "base_uri": "https://localhost:8080/"
        },
        "id": "W-GhHucIZw5s",
        "outputId": "e552e280-999e-4998-e7e0-0918f7e9f4b3"
      },
      "execution_count": 2,
      "outputs": [
        {
          "output_type": "stream",
          "name": "stdout",
          "text": [
            "Collecting owlready2\n",
            "  Downloading Owlready2-0.43.tar.gz (27.4 MB)\n",
            "\u001b[2K     \u001b[90m━━━━━━━━━━━━━━━━━━━━━━━━━━━━━━━━━━━━━━━━\u001b[0m \u001b[32m27.4/27.4 MB\u001b[0m \u001b[31m39.0 MB/s\u001b[0m eta \u001b[36m0:00:00\u001b[0m\n",
            "\u001b[?25h  Installing build dependencies ... \u001b[?25l\u001b[?25hdone\n",
            "  Getting requirements to build wheel ... \u001b[?25l\u001b[?25hdone\n",
            "  Preparing metadata (pyproject.toml) ... \u001b[?25l\u001b[?25hdone\n",
            "Building wheels for collected packages: owlready2\n",
            "  Building wheel for owlready2 (pyproject.toml) ... \u001b[?25l\u001b[?25hdone\n",
            "  Created wheel for owlready2: filename=Owlready2-0.43-cp310-cp310-linux_x86_64.whl size=24044752 sha256=f6404f5c0037e2550e246cad4d3918a43b280b5e3d150f79570a41d02d0c9b8b\n",
            "  Stored in directory: /root/.cache/pip/wheels/bc/9b/82/c07844dfbaa52dbf3352b18b0a27c348ee854df8b752990c53\n",
            "Successfully built owlready2\n",
            "Installing collected packages: owlready2\n",
            "Successfully installed owlready2-0.43\n"
          ]
        }
      ]
    },
    {
      "cell_type": "code",
      "execution_count": 11,
      "metadata": {
        "colab": {
          "base_uri": "https://localhost:8080/"
        },
        "id": "otkDbxsVZVw4",
        "outputId": "849257f5-f96c-4e55-b324-6d3e95137743"
      },
      "outputs": [
        {
          "output_type": "stream",
          "name": "stdout",
          "text": [
            "Loaded Diseases and Their Symptoms:\n"
          ]
        },
        {
          "output_type": "stream",
          "name": "stderr",
          "text": [
            "* Owlready2 * Running Pellet...\n",
            "    java -Xmx2000M -cp /usr/local/lib/python3.10/dist-packages/owlready2/pellet/aterm-java-1.6.jar:/usr/local/lib/python3.10/dist-packages/owlready2/pellet/jena-iri-0.9.5.jar:/usr/local/lib/python3.10/dist-packages/owlready2/pellet/owlapi-distribution-3.4.3-bin.jar:/usr/local/lib/python3.10/dist-packages/owlready2/pellet/antlr-runtime-3.2.jar:/usr/local/lib/python3.10/dist-packages/owlready2/pellet/httpcore-4.2.2.jar:/usr/local/lib/python3.10/dist-packages/owlready2/pellet/jena-arq-2.10.0.jar:/usr/local/lib/python3.10/dist-packages/owlready2/pellet/slf4j-api-1.6.4.jar:/usr/local/lib/python3.10/dist-packages/owlready2/pellet/jgrapht-jdk1.5.jar:/usr/local/lib/python3.10/dist-packages/owlready2/pellet/httpclient-4.2.3.jar:/usr/local/lib/python3.10/dist-packages/owlready2/pellet/xml-apis-1.4.01.jar:/usr/local/lib/python3.10/dist-packages/owlready2/pellet/jcl-over-slf4j-1.6.4.jar:/usr/local/lib/python3.10/dist-packages/owlready2/pellet/log4j-api-2.19.0.jar:/usr/local/lib/python3.10/dist-packages/owlready2/pellet/log4j-core-2.19.0.jar:/usr/local/lib/python3.10/dist-packages/owlready2/pellet/xercesImpl-2.10.0.jar:/usr/local/lib/python3.10/dist-packages/owlready2/pellet/commons-codec-1.6.jar:/usr/local/lib/python3.10/dist-packages/owlready2/pellet/jena-tdb-0.10.0.jar:/usr/local/lib/python3.10/dist-packages/owlready2/pellet/slf4j-log4j12-1.6.4.jar:/usr/local/lib/python3.10/dist-packages/owlready2/pellet/jena-core-2.10.0.jar:/usr/local/lib/python3.10/dist-packages/owlready2/pellet/log4j-1.2-api-2.19.0.jar:/usr/local/lib/python3.10/dist-packages/owlready2/pellet/pellet-2.3.1.jar:/usr/local/lib/python3.10/dist-packages/owlready2/pellet/antlr-3.2.jar pellet.Pellet realize --loader Jena --input-format N-Triples --infer-prop-values --infer-data-prop-values --ignore-imports /tmp/tmp519jcxs7\n"
          ]
        },
        {
          "output_type": "stream",
          "name": "stdout",
          "text": [
            "\n",
            "Inferred Diseases and Their Symptoms:\n"
          ]
        },
        {
          "output_type": "stream",
          "name": "stderr",
          "text": [
            "* Owlready2 * Pellet took 5.479344606399536 seconds\n",
            "* Owlready * (NB: only changes on entities loaded in Python are shown, other changes are done but not listed)\n"
          ]
        }
      ],
      "source": [
        "from owlready2 import *\n",
        "\n",
        "# Load the NCI Thesaurus medical ontology using OWL/XML format\n",
        "ontology_url = \"http://ncicb.nci.nih.gov/xml/owl/EVS/Thesaurus.owl\"\n",
        "onto = get_ontology(ontology_url).load(format='owl')\n",
        "\n",
        "# Define complex relationships and axioms using Description Logics\n",
        "class Disease(Thing):\n",
        "    namespace = onto\n",
        "\n",
        "class Symptom(Thing):\n",
        "    namespace = onto\n",
        "\n",
        "class hasSymptom(Property):\n",
        "    namespace = onto\n",
        "    domain = [Disease]\n",
        "    range = [Symptom]\n",
        "\n",
        "# Print the loaded diseases and their symptoms\n",
        "print(\"Loaded Diseases and Their Symptoms:\")\n",
        "for disease in onto.Disease.instances():\n",
        "    print(disease.name)\n",
        "    for symptom in disease.hasSymptom:\n",
        "        print(\"   -\", symptom.name)\n",
        "\n",
        "# Perform reasoning to infer relationships\n",
        "sync_reasoner_pellet(infer_property_values=True, infer_data_property_values=True)\n",
        "\n",
        "# Print the inferred diseases and their symptoms\n",
        "print(\"\\nInferred Diseases and Their Symptoms:\")\n",
        "for disease in onto.Disease.instances():\n",
        "    print(disease.name)\n",
        "    for symptom in disease.hasSymptom:\n",
        "        print(\"   -\", symptom.name)\n"
      ]
    },
    {
      "cell_type": "markdown",
      "metadata": {
        "id": "c70SAII5ZVxC"
      },
      "source": [
        "## 2. Efficiency of Reasoning:\n",
        "The example demonstrates efficient reasoning using a less expressive representation language like propositional logic to implement a simple expert system"
      ]
    },
    {
      "cell_type": "code",
      "execution_count": 12,
      "metadata": {
        "colab": {
          "base_uri": "https://localhost:8080/"
        },
        "id": "phAc8E5zZVxC",
        "outputId": "76656310-5ea3-4978-eb84-b520f7889562"
      },
      "outputs": [
        {
          "output_type": "stream",
          "name": "stdout",
          "text": [
            "Inferred Disease: flu\n"
          ]
        }
      ],
      "source": [
        "# Define a rule-based expert system using propositional logic\n",
        "def rule1(symptoms):\n",
        "    if 'fever' in symptoms and 'cough' in symptoms:\n",
        "        return 'flu'\n",
        "    return None\n",
        "\n",
        "def rule2(symptoms):\n",
        "    if 'fever' in symptoms and 'rash' in symptoms:\n",
        "        return 'measles'\n",
        "    return None\n",
        "\n",
        "def rule3(symptoms):\n",
        "    if 'cough' in symptoms:\n",
        "        return 'cold'\n",
        "    return None\n",
        "\n",
        "# Gather symptoms from the user\n",
        "user_symptoms = ['fever', 'cough']\n",
        "\n",
        "# Apply the rules and perform reasoning\n",
        "disease = None\n",
        "for rule in [rule1, rule2, rule3]:\n",
        "    disease = rule(user_symptoms)\n",
        "    if disease:\n",
        "        break\n",
        "\n",
        "# Output the inferred disease\n",
        "print(\"Inferred Disease:\", disease)\n"
      ]
    },
    {
      "cell_type": "markdown",
      "metadata": {
        "id": "OfE8AXByZVxD"
      },
      "source": [
        "## 3. Scalability and Complexity:\n",
        "The example demonstrates the scalability of a constraint satisfaction problem using a less expressive representation for solving a Sudoku puzzle."
      ]
    },
    {
      "cell_type": "code",
      "source": [
        "!pip install python-constraint\n"
      ],
      "metadata": {
        "colab": {
          "base_uri": "https://localhost:8080/"
        },
        "id": "xSXNkUWjcnVJ",
        "outputId": "53cfb80c-f619-48c2-87f7-63b16f2becf9"
      },
      "execution_count": 17,
      "outputs": [
        {
          "output_type": "stream",
          "name": "stdout",
          "text": [
            "Collecting python-constraint\n",
            "  Downloading python-constraint-1.4.0.tar.bz2 (18 kB)\n",
            "  Preparing metadata (setup.py) ... \u001b[?25l\u001b[?25hdone\n",
            "Building wheels for collected packages: python-constraint\n",
            "  Building wheel for python-constraint (setup.py) ... \u001b[?25l\u001b[?25hdone\n",
            "  Created wheel for python-constraint: filename=python_constraint-1.4.0-py2.py3-none-any.whl size=24058 sha256=6311d971ba313fc023791c4744c809587bc3e0d9e34c72ee92db926546b5acf8\n",
            "  Stored in directory: /root/.cache/pip/wheels/2e/f2/2b/cb08b5fe129e4f69b7033061f256e5c551b0aa1160c2872aee\n",
            "Successfully built python-constraint\n",
            "Installing collected packages: python-constraint\n",
            "Successfully installed python-constraint-1.4.0\n"
          ]
        }
      ]
    },
    {
      "cell_type": "code",
      "execution_count": 18,
      "metadata": {
        "colab": {
          "base_uri": "https://localhost:8080/"
        },
        "id": "osYTRNaKZVxD",
        "outputId": "b5c44d0a-26ce-4dcf-b930-4b96b49368a0"
      },
      "outputs": [
        {
          "output_type": "stream",
          "name": "stdout",
          "text": [
            "5 3 4 6 7 8 9 1 2 \n",
            "6 7 2 1 9 5 3 4 8 \n",
            "1 9 8 3 4 2 5 6 7 \n",
            "8 5 9 7 6 1 4 2 3 \n",
            "4 2 6 8 5 3 7 9 1 \n",
            "7 1 3 9 2 4 8 5 6 \n",
            "9 6 1 5 3 7 2 8 4 \n",
            "2 8 7 4 1 9 6 3 5 \n",
            "3 4 5 2 8 6 1 7 9 \n"
          ]
        }
      ],
      "source": [
        "from constraint import Problem, AllDifferentConstraint, BacktrackingSolver\n",
        "\n",
        "# Create a constraint satisfaction problem for Sudoku\n",
        "problem = Problem(solver=BacktrackingSolver())\n",
        "\n",
        "# Define variables and domains for each cell\n",
        "for row in range(9):\n",
        "    for col in range(9):\n",
        "        problem.addVariable((row, col), list(range(1, 10)))\n",
        "\n",
        "# Define constraints to ensure uniqueness in rows, columns, and sub-grids\n",
        "for row in range(9):\n",
        "    problem.addConstraint(AllDifferentConstraint(), [(row, col) for col in range(9)])\n",
        "for col in range(9):\n",
        "    problem.addConstraint(AllDifferentConstraint(), [(row, col) for row in range(9)])\n",
        "for i in range(3):\n",
        "    for j in range(3):\n",
        "        problem.addConstraint(AllDifferentConstraint(), [(row, col) for row in range(i * 3, i * 3 + 3) for col in range(j * 3, j * 3 + 3)])\n",
        "\n",
        "# Set a more challenging Sudoku puzzle with more initial values\n",
        "initial_values = {\n",
        "    (0, 0): 5, (0, 1): 3, (0, 4): 7,\n",
        "    (1, 0): 6, (1, 3): 1, (1, 4): 9, (1, 5): 5,\n",
        "    (2, 1): 9, (2, 2): 8, (2, 7): 6,\n",
        "    (3, 0): 8, (3, 4): 6, (3, 8): 3,\n",
        "    (4, 0): 4, (4, 3): 8, (4, 5): 3, (4, 8): 1,\n",
        "    (5, 0): 7, (5, 4): 2, (5, 8): 6,\n",
        "    (6, 1): 6, (6, 6): 2, (6, 7): 8,\n",
        "    (7, 3): 4, (7, 4): 1, (7, 5): 9, (7, 8): 5,\n",
        "    (8, 4): 8, (8, 7): 7, (8, 8): 9,\n",
        "}\n",
        "\n",
        "# Add constraints for initial values\n",
        "for cell, value in initial_values.items():\n",
        "    problem.addConstraint(lambda cell_value, value=value: cell_value == value, (cell,))\n",
        "\n",
        "# Solve the Sudoku puzzle\n",
        "solutions = problem.getSolutions()\n",
        "\n",
        "# Print the first solution (if exists)\n",
        "if solutions:\n",
        "    solution = solutions[0]\n",
        "    for row in range(9):\n",
        "        for col in range(9):\n",
        "            print(solution[(row, col)], end=\" \")\n",
        "        print()\n",
        "else:\n",
        "    print(\"No solution found.\")\n"
      ]
    },
    {
      "cell_type": "markdown",
      "metadata": {
        "id": "Zsu2iiNHZVxD"
      },
      "source": [
        "## 4. Domain-Specific Considerations:\n",
        "The example demonstrates domain-specific considerations in knowledge representation by using an ontology to model geographical entities."
      ]
    },
    {
      "cell_type": "code",
      "source": [
        "!pip install rdflib\n"
      ],
      "metadata": {
        "colab": {
          "base_uri": "https://localhost:8080/"
        },
        "id": "oNaZZ3dFivUg",
        "outputId": "c8d0140f-4bc1-4763-e529-7ac57be77e69"
      },
      "execution_count": 37,
      "outputs": [
        {
          "output_type": "stream",
          "name": "stdout",
          "text": [
            "Collecting rdflib\n",
            "  Downloading rdflib-6.3.2-py3-none-any.whl (528 kB)\n",
            "\u001b[2K     \u001b[90m━━━━━━━━━━━━━━━━━━━━━━━━━━━━━━━━━━━━━━━\u001b[0m \u001b[32m528.1/528.1 kB\u001b[0m \u001b[31m5.9 MB/s\u001b[0m eta \u001b[36m0:00:00\u001b[0m\n",
            "\u001b[?25hCollecting isodate<0.7.0,>=0.6.0 (from rdflib)\n",
            "  Downloading isodate-0.6.1-py2.py3-none-any.whl (41 kB)\n",
            "\u001b[2K     \u001b[90m━━━━━━━━━━━━━━━━━━━━━━━━━━━━━━━━━━━━━━━━\u001b[0m \u001b[32m41.7/41.7 kB\u001b[0m \u001b[31m5.6 MB/s\u001b[0m eta \u001b[36m0:00:00\u001b[0m\n",
            "\u001b[?25hRequirement already satisfied: pyparsing<4,>=2.1.0 in /usr/local/lib/python3.10/dist-packages (from rdflib) (3.1.0)\n",
            "Requirement already satisfied: six in /usr/local/lib/python3.10/dist-packages (from isodate<0.7.0,>=0.6.0->rdflib) (1.16.0)\n",
            "Installing collected packages: isodate, rdflib\n",
            "Successfully installed isodate-0.6.1 rdflib-6.3.2\n"
          ]
        }
      ]
    },
    {
      "cell_type": "code",
      "execution_count": 40,
      "metadata": {
        "colab": {
          "base_uri": "https://localhost:8080/"
        },
        "id": "xJ3I5j_CZVxD",
        "outputId": "85362fc8-98e4-41e4-e189-da9e2742917a"
      },
      "outputs": [
        {
          "output_type": "stream",
          "name": "stdout",
          "text": [
            "The capital of Germany is: None\n"
          ]
        }
      ],
      "source": [
        "import rdflib\n",
        "from rdflib.plugins.sparql import prepareQuery\n",
        "\n",
        "# Load the GeoNames ontology\n",
        "ontology_url = \"https://sws.geonames.org/ontology/ontology_v3.1.rdf\"\n",
        "g = rdflib.Graph()\n",
        "g.parse(ontology_url, format='xml')\n",
        "\n",
        "# Define the URIs for classes and properties\n",
        "GEONAMES_NS = rdflib.Namespace(\"http://www.geonames.org/ontology#\")\n",
        "COUNTRY = GEONAMES_NS.Country\n",
        "FEATURE = GEONAMES_NS.Feature\n",
        "CAPITAL_OF = GEONAMES_NS.capital\n",
        "\n",
        "# Define geographical entities and their relationships\n",
        "CITY = GEONAMES_NS['P.City']  # Correct URI for the \"City\" class\n",
        "\n",
        "# Define the property \"hasCapitalOf\" on the GeoNames ontology\n",
        "g.add((CAPITAL_OF, rdflib.RDF.type, rdflib.OWL.ObjectProperty))\n",
        "g.add((CAPITAL_OF, rdflib.RDFS.domain, COUNTRY))\n",
        "g.add((CAPITAL_OF, rdflib.RDFS.range, CITY))\n",
        "\n",
        "# Perform reasoning to infer relationships\n",
        "sparql = prepareQuery(\n",
        "    \"CONSTRUCT { ?s ?p ?o } WHERE { ?s ?p ?o . }\",\n",
        "    initNs={\"gn\": GEONAMES_NS}\n",
        ")\n",
        "inferred_triples = g.query(sparql)\n",
        "\n",
        "for triple in inferred_triples:\n",
        "    g.add(triple)\n",
        "\n",
        "# Get the capital of a specific country\n",
        "country_uri = rdflib.URIRef(\"http://sws.geonames.org/2921044/\")  # Germany URI in GeoNames\n",
        "capital = g.value(subject=country_uri, predicate=CAPITAL_OF)\n",
        "print(\"The capital of Germany is:\", capital)\n"
      ]
    },
    {
      "cell_type": "markdown",
      "metadata": {
        "id": "2PlA370HZVxE"
      },
      "source": [
        "## 5. Hybrid Approaches:\n",
        "The example demonstrates a hybrid approach by combining rule-based reasoning and probabilistic modeling in a medical diagnosis system."
      ]
    },
    {
      "cell_type": "code",
      "execution_count": 41,
      "metadata": {
        "colab": {
          "base_uri": "https://localhost:8080/"
        },
        "id": "40WSK3mXZVxE",
        "outputId": "7a239b6c-1234-4e65-b1b7-8d4e6fced0d6"
      },
      "outputs": [
        {
          "output_type": "stream",
          "name": "stdout",
          "text": [
            "Diagnosis: cold\n"
          ]
        }
      ],
      "source": [
        "import random\n",
        "\n",
        "# Define a rule-based system for medical diagnosis\n",
        "def rule1(symptoms):\n",
        "    if 'fever' in symptoms and 'cough' in symptoms:\n",
        "        return 'flu'\n",
        "    return None\n",
        "\n",
        "def rule2(symptoms):\n",
        "    if 'fever' in symptoms and 'rash' in symptoms:\n",
        "        return 'measles'\n",
        "    return None\n",
        "\n",
        "def rule3(symptoms):\n",
        "    if 'cough' in symptoms:\n",
        "        return 'cold'\n",
        "    return None\n",
        "\n",
        "# Define a probabilistic model to update the diagnosis\n",
        "def probabilistic_update(disease):\n",
        "    if disease == 'flu':\n",
        "        if random.random() < 0.8:\n",
        "            return 'flu'\n",
        "        return 'cold'\n",
        "    return disease\n",
        "\n",
        "# Gather symptoms from the user\n",
        "user_symptoms = ['fever', 'cough']\n",
        "\n",
        "# Apply the rules and perform initial reasoning\n",
        "disease = None\n",
        "for rule in [rule1, rule2, rule3]:\n",
        "    disease = rule(user_symptoms)\n",
        "    if disease:\n",
        "        break\n",
        "\n",
        "# Update the diagnosis probabilistically\n",
        "disease = probabilistic_update(disease)\n",
        "\n",
        "# Output the final diagnosis\n",
        "print(\"Diagnosis:\", disease)\n",
        "\n"
      ]
    },
    {
      "cell_type": "code",
      "execution_count": null,
      "metadata": {
        "id": "c74SzNwLZVxE"
      },
      "outputs": [],
      "source": []
    }
  ],
  "metadata": {
    "kernelspec": {
      "display_name": "tf",
      "language": "python",
      "name": "python3"
    },
    "language_info": {
      "codemirror_mode": {
        "name": "ipython",
        "version": 3
      },
      "file_extension": ".py",
      "mimetype": "text/x-python",
      "name": "python",
      "nbconvert_exporter": "python",
      "pygments_lexer": "ipython3",
      "version": "3.10.10"
    },
    "orig_nbformat": 4,
    "colab": {
      "provenance": []
    }
  },
  "nbformat": 4,
  "nbformat_minor": 0
}