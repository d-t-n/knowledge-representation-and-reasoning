{
 "cells": [
  {
   "cell_type": "markdown",
   "metadata": {},
   "source": [
    "# Project 4. Identify which knowledge-based techniques are appropriate for which task"
   ]
  },
  {
   "cell_type": "markdown",
   "metadata": {},
   "source": [
    "### 1. Expert Systems:\n",
    "- Project: Medical Diagnosis System\n",
    "- Description: Build an expert system that takes patient symptoms as input and provides potential medical conditions as output.\n",
    "- Techniques: Rule-based reasoning, forward chaining, inference engine."
   ]
  },
  {
   "cell_type": "markdown",
   "metadata": {},
   "source": [
    "To create an expert system for the Medical Diagnosis System, we'll use the pyknow library, which is a Python implementation of the CLIPS expert system shell. We'll define rules that infer potential medical conditions based on the patient's symptoms. Make sure you have the pyknow library installed before running the code. You can install it using pip install pyknow."
   ]
  },
  {
   "cell_type": "code",
   "execution_count": 2,
   "metadata": {},
   "outputs": [
    {
     "name": "stdout",
     "output_type": "stream",
     "text": [
      "Requirement already satisfied: experta in ./.conda/lib/python3.9/site-packages (1.9.4)\n",
      "Requirement already satisfied: frozendict==1.2 in ./.conda/lib/python3.9/site-packages (from experta) (1.2)\n",
      "Requirement already satisfied: schema==0.6.7 in ./.conda/lib/python3.9/site-packages (from experta) (0.6.7)\n"
     ]
    }
   ],
   "source": [
    "!pip install experta"
   ]
  },
  {
   "cell_type": "code",
   "execution_count": 3,
   "metadata": {},
   "outputs": [
    {
     "name": "stderr",
     "output_type": "stream",
     "text": [
      "WARNING:experta.watchers.ENGINE:Declaring fact before reset()\n"
     ]
    },
    {
     "name": "stdout",
     "output_type": "stream",
     "text": [
      "Medical Condition: No specific medical condition found.\n"
     ]
    }
   ],
   "source": [
    "from experta import *\n",
    "\n",
    "\n",
    "# Define the Facts (Patient Symptoms)\n",
    "class Symptom(Fact):\n",
    "    pass\n",
    "\n",
    "# Define the Medical Conditions\n",
    "class MedicalCondition(Fact):\n",
    "    pass\n",
    "\n",
    "\n",
    "# Define the Expert System Rules\n",
    "class MedicalDiagnosisExpertSystem(KnowledgeEngine):\n",
    "    @Rule(Symptom(cough=True) & Symptom(fever=True) & Symptom(fatigue=True))\n",
    "    def rule_flu(self):\n",
    "        self.declare(MedicalCondition(name=\"Flu\"))\n",
    "\n",
    "    @Rule(Symptom(headache=True) & Symptom(stiff_neck=True) & Symptom(fever=True))\n",
    "    def rule_meningitis(self):\n",
    "        self.declare(MedicalCondition(name=\"Meningitis\"))\n",
    "\n",
    "    @Rule(Symptom(rash=True) & Symptom(fever=True) & Symptom(joint_pain=True))\n",
    "    def rule_dengue(self):\n",
    "        self.declare(MedicalCondition(name=\"Dengue\"))\n",
    "\n",
    "    @Rule(Symptom(chest_pain=True) & Symptom(shortness_of_breath=True))\n",
    "    def rule_heart_attack(self):\n",
    "        self.declare(MedicalCondition(name=\"Heart Attack\"))\n",
    "\n",
    "\n",
    "# Function to run the Medical Diagnosis Expert System\n",
    "def run_medical_diagnosis_system(symptoms):\n",
    "    engine = MedicalDiagnosisExpertSystem()\n",
    "\n",
    "    for symptom, value in symptoms.items():\n",
    "        engine.declare(Symptom(**{symptom: value}))\n",
    "\n",
    "    engine.run()\n",
    "\n",
    "    # Get the output medical condition\n",
    "    condition = engine.facts.get(MedicalCondition)\n",
    "    if condition:\n",
    "        return condition['name']\n",
    "    else:\n",
    "        return \"No specific medical condition found.\"\n",
    "\n",
    "\n",
    "# Example Usage\n",
    "if __name__ == \"__main__\":\n",
    "    # Example symptoms (You can modify this dictionary with patient symptoms)\n",
    "    patient_symptoms = {\n",
    "        'cough': True,\n",
    "        'fever': True,\n",
    "        'fatigue': True,\n",
    "    }\n",
    "\n",
    "    medical_condition = run_medical_diagnosis_system(patient_symptoms)\n",
    "    print(\"Medical Condition:\", medical_condition)\n"
   ]
  },
  {
   "cell_type": "markdown",
   "metadata": {},
   "source": [
    "### 2. Knowledge Graphs:\n"
   ]
  },
  {
   "cell_type": "markdown",
   "metadata": {},
   "source": [
    "- Project: Movie Recommendation System\n",
    "- Description: Create a knowledge graph of movies, actors, genres, and user preferences to recommend personalized movies to users.\n",
    "- Techniques: RDF data representation, SPARQL querying, semantic similarity."
   ]
  },
  {
   "cell_type": "code",
   "execution_count": 4,
   "metadata": {},
   "outputs": [
    {
     "name": "stdout",
     "output_type": "stream",
     "text": [
      "Collecting rdflib\n",
      "  Using cached rdflib-6.3.2-py3-none-any.whl (528 kB)\n",
      "Collecting isodate<0.7.0,>=0.6.0 (from rdflib)\n",
      "  Using cached isodate-0.6.1-py2.py3-none-any.whl (41 kB)\n",
      "Collecting pyparsing<4,>=2.1.0 (from rdflib)\n",
      "  Obtaining dependency information for pyparsing<4,>=2.1.0 from https://files.pythonhosted.org/packages/a4/24/6ae4c9c45cf99d96b06b5d99e25526c060303171fb0aea9da2bfd7dbde93/pyparsing-3.1.0-py3-none-any.whl.metadata\n",
      "  Downloading pyparsing-3.1.0-py3-none-any.whl.metadata (4.9 kB)\n",
      "Requirement already satisfied: six in ./.conda/lib/python3.9/site-packages (from isodate<0.7.0,>=0.6.0->rdflib) (1.16.0)\n",
      "Using cached pyparsing-3.1.0-py3-none-any.whl (102 kB)\n",
      "Installing collected packages: pyparsing, isodate, rdflib\n",
      "Successfully installed isodate-0.6.1 pyparsing-3.1.0 rdflib-6.3.2\n"
     ]
    }
   ],
   "source": [
    "!pip install rdflib"
   ]
  },
  {
   "cell_type": "code",
   "execution_count": 5,
   "metadata": {},
   "outputs": [
    {
     "ename": "AttributeError",
     "evalue": "term 'Movie' not in namespace 'http://xmlns.com/foaf/0.1/'",
     "output_type": "error",
     "traceback": [
      "\u001b[0;31m---------------------------------------------------------------------------\u001b[0m",
      "\u001b[0;31mAttributeError\u001b[0m                            Traceback (most recent call last)",
      "Cell \u001b[0;32mIn[5], line 15\u001b[0m\n\u001b[1;32m     11\u001b[0m USER \u001b[39m=\u001b[39m Namespace(\u001b[39m\"\u001b[39m\u001b[39mhttp://example.org/users/\u001b[39m\u001b[39m\"\u001b[39m)\n\u001b[1;32m     13\u001b[0m \u001b[39m# Add movies, actors, genres, and user preferences to the graph\u001b[39;00m\n\u001b[1;32m     14\u001b[0m \u001b[39m# For simplicity, we use mock data in this example\u001b[39;00m\n\u001b[0;32m---> 15\u001b[0m graph\u001b[39m.\u001b[39madd((MOVIE[\u001b[39m'\u001b[39m\u001b[39mmovie1\u001b[39m\u001b[39m'\u001b[39m], RDF\u001b[39m.\u001b[39mtype, FOAF\u001b[39m.\u001b[39;49mMovie))\n\u001b[1;32m     16\u001b[0m graph\u001b[39m.\u001b[39madd((MOVIE[\u001b[39m'\u001b[39m\u001b[39mmovie1\u001b[39m\u001b[39m'\u001b[39m], FOAF\u001b[39m.\u001b[39mtitle, Literal(\u001b[39m\"\u001b[39m\u001b[39mMovie 1\u001b[39m\u001b[39m\"\u001b[39m)))\n\u001b[1;32m     17\u001b[0m graph\u001b[39m.\u001b[39madd((MOVIE[\u001b[39m'\u001b[39m\u001b[39mmovie1\u001b[39m\u001b[39m'\u001b[39m], FOAF\u001b[39m.\u001b[39mgenre, GENRE[\u001b[39m'\u001b[39m\u001b[39maction\u001b[39m\u001b[39m'\u001b[39m]))\n",
      "File \u001b[0;32m~/Documents/Files/Projects/Git/knowledge-representation-and-reasoning/.conda/lib/python3.9/site-packages/rdflib/namespace/__init__.py:239\u001b[0m, in \u001b[0;36mDefinedNamespaceMeta.__getattr__\u001b[0;34m(cls, name)\u001b[0m\n\u001b[1;32m    238\u001b[0m \u001b[39mdef\u001b[39;00m \u001b[39m__getattr__\u001b[39m(\u001b[39mcls\u001b[39m, name: \u001b[39mstr\u001b[39m):\n\u001b[0;32m--> 239\u001b[0m     \u001b[39mreturn\u001b[39;00m \u001b[39mcls\u001b[39;49m\u001b[39m.\u001b[39;49m\u001b[39m__getitem__\u001b[39;49m(name)\n",
      "File \u001b[0;32m~/Documents/Files/Projects/Git/knowledge-representation-and-reasoning/.conda/lib/python3.9/site-packages/rdflib/namespace/__init__.py:230\u001b[0m, in \u001b[0;36mDefinedNamespaceMeta.__getitem__\u001b[0;34m(cls, name, default)\u001b[0m\n\u001b[1;32m    228\u001b[0m \u001b[39mif\u001b[39;00m (\u001b[39mcls\u001b[39m\u001b[39m.\u001b[39m_warn \u001b[39mor\u001b[39;00m \u001b[39mcls\u001b[39m\u001b[39m.\u001b[39m_fail) \u001b[39mand\u001b[39;00m name \u001b[39mnot\u001b[39;00m \u001b[39min\u001b[39;00m \u001b[39mcls\u001b[39m:\n\u001b[1;32m    229\u001b[0m     \u001b[39mif\u001b[39;00m \u001b[39mcls\u001b[39m\u001b[39m.\u001b[39m_fail:\n\u001b[0;32m--> 230\u001b[0m         \u001b[39mraise\u001b[39;00m \u001b[39mAttributeError\u001b[39;00m(\u001b[39mf\u001b[39m\u001b[39m\"\u001b[39m\u001b[39mterm \u001b[39m\u001b[39m'\u001b[39m\u001b[39m{\u001b[39;00mname\u001b[39m}\u001b[39;00m\u001b[39m'\u001b[39m\u001b[39m not in namespace \u001b[39m\u001b[39m'\u001b[39m\u001b[39m{\u001b[39;00m\u001b[39mcls\u001b[39m\u001b[39m.\u001b[39m_NS\u001b[39m}\u001b[39;00m\u001b[39m'\u001b[39m\u001b[39m\"\u001b[39m)\n\u001b[1;32m    231\u001b[0m     \u001b[39melse\u001b[39;00m:\n\u001b[1;32m    232\u001b[0m         warnings\u001b[39m.\u001b[39mwarn(\n\u001b[1;32m    233\u001b[0m             \u001b[39mf\u001b[39m\u001b[39m\"\u001b[39m\u001b[39mCode: \u001b[39m\u001b[39m{\u001b[39;00mname\u001b[39m}\u001b[39;00m\u001b[39m is not defined in namespace \u001b[39m\u001b[39m{\u001b[39;00m\u001b[39mcls\u001b[39m\u001b[39m.\u001b[39m\u001b[39m__name__\u001b[39m\u001b[39m}\u001b[39;00m\u001b[39m\"\u001b[39m,\n\u001b[1;32m    234\u001b[0m             stacklevel\u001b[39m=\u001b[39m\u001b[39m3\u001b[39m,\n\u001b[1;32m    235\u001b[0m         )\n",
      "\u001b[0;31mAttributeError\u001b[0m: term 'Movie' not in namespace 'http://xmlns.com/foaf/0.1/'"
     ]
    }
   ],
   "source": [
    "from rdflib import Graph, Literal, BNode, Namespace, RDF, URIRef\n",
    "from rdflib.namespace import FOAF\n",
    "\n",
    "# Create a Knowledge Graph\n",
    "graph = Graph()\n",
    "\n",
    "# Define namespaces\n",
    "MOVIE = Namespace(\"http://example.org/movies/\")\n",
    "ACTOR = Namespace(\"http://example.org/actors/\")\n",
    "GENRE = Namespace(\"http://example.org/genres/\")\n",
    "USER = Namespace(\"http://example.org/users/\")\n",
    "\n",
    "# Add movies, actors, genres, and user preferences to the graph\n",
    "# For simplicity, we use mock data in this example\n",
    "graph.add((MOVIE['movie1'], RDF.type, FOAF.Movie))\n",
    "graph.add((MOVIE['movie1'], FOAF.title, Literal(\"Movie 1\")))\n",
    "graph.add((MOVIE['movie1'], FOAF.genre, GENRE['action']))\n",
    "graph.add((MOVIE['movie1'], FOAF.actor, ACTOR['actor1']))\n",
    "graph.add((MOVIE['movie1'], FOAF.actor, ACTOR['actor2']))\n",
    "\n",
    "graph.add((ACTOR['actor1'], RDF.type, FOAF.Person))\n",
    "graph.add((ACTOR['actor1'], FOAF.name, Literal(\"Actor 1\")))\n",
    "\n",
    "graph.add((ACTOR['actor2'], RDF.type, FOAF.Person))\n",
    "graph.add((ACTOR['actor2'], FOAF.name, Literal(\"Actor 2\")))\n",
    "\n",
    "graph.add((GENRE['action'], RDF.type, FOAF.Genre))\n",
    "graph.add((GENRE['action'], FOAF.name, Literal(\"Action\")))\n",
    "\n",
    "# Add user preferences to the graph\n",
    "# For simplicity, we assume the user prefers \"Movie 1\"\n",
    "graph.add((USER['user1'], FOAF.likes, MOVIE['movie1']))\n",
    "\n",
    "# Define SPARQL query to recommend movies to the user based on preferences\n",
    "sparql_query = \"\"\"\n",
    "    PREFIX foaf: <http://xmlns.com/foaf/0.1/>\n",
    "    SELECT ?movie ?title\n",
    "    WHERE {\n",
    "        ?user foaf:likes ?movie.\n",
    "        ?movie foaf:title ?title.\n",
    "    }\n",
    "\"\"\"\n",
    "\n",
    "# Execute the SPARQL query\n",
    "results = graph.query(sparql_query)\n",
    "\n",
    "# Print the recommended movies\n",
    "print(\"Recommended Movies:\")\n",
    "for row in results:\n",
    "    print(row.title)\n",
    "\n",
    "# Calculate semantic similarity between movies (using cosine similarity)\n",
    "# For simplicity, we use mock data and cosine similarity function in this example\n",
    "\n",
    "def cosine_similarity(movie1, movie2):\n",
    "    # Calculate cosine similarity between movie1 and movie2\n",
    "    # For simplicity, we return a random similarity score in this example\n",
    "    return 0.8\n",
    "\n",
    "movie1 = MOVIE['movie1']\n",
    "movie2 = MOVIE['movie2']\n",
    "\n",
    "similarity_score = cosine_similarity(movie1, movie2)\n",
    "print(f\"Semantic similarity between Movie 1 and Movie 2: {similarity_score}\")\n"
   ]
  },
  {
   "cell_type": "code",
   "execution_count": null,
   "metadata": {},
   "outputs": [],
   "source": []
  }
 ],
 "metadata": {
  "kernelspec": {
   "display_name": "tf",
   "language": "python",
   "name": "python3"
  },
  "language_info": {
   "codemirror_mode": {
    "name": "ipython",
    "version": 3
   },
   "file_extension": ".py",
   "mimetype": "text/x-python",
   "name": "python",
   "nbconvert_exporter": "python",
   "pygments_lexer": "ipython3",
   "version": "3.9.16"
  },
  "orig_nbformat": 4
 },
 "nbformat": 4,
 "nbformat_minor": 2
}
