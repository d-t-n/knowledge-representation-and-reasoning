{
 "cells": [
  {
   "cell_type": "markdown",
   "metadata": {},
   "source": [
    "# Project 4. Identify which knowledge-based techniques are appropriate for which task"
   ]
  },
  {
   "cell_type": "markdown",
   "metadata": {},
   "source": [
    "### 1. Expert Systems:\n",
    "- Project: Medical Diagnosis System\n",
    "- Description: Build an expert system that takes patient symptoms as input and provides potential medical conditions as output.\n",
    "- Techniques: Rule-based reasoning, forward chaining, inference engine."
   ]
  },
  {
   "cell_type": "markdown",
   "metadata": {},
   "source": [
    "To create an expert system for the Medical Diagnosis System, we'll use the pyknow library, which is a Python implementation of the CLIPS expert system shell. We'll define rules that infer potential medical conditions based on the patient's symptoms. Make sure you have the pyknow library installed before running the code. You can install it using pip install pyknow."
   ]
  },
  {
   "cell_type": "code",
   "execution_count": 2,
   "metadata": {},
   "outputs": [
    {
     "name": "stdout",
     "output_type": "stream",
     "text": [
      "Requirement already satisfied: experta in ./.conda/lib/python3.9/site-packages (1.9.4)\n",
      "Requirement already satisfied: frozendict==1.2 in ./.conda/lib/python3.9/site-packages (from experta) (1.2)\n",
      "Requirement already satisfied: schema==0.6.7 in ./.conda/lib/python3.9/site-packages (from experta) (0.6.7)\n"
     ]
    }
   ],
   "source": [
    "!pip install experta"
   ]
  },
  {
   "cell_type": "code",
   "execution_count": 3,
   "metadata": {},
   "outputs": [
    {
     "name": "stderr",
     "output_type": "stream",
     "text": [
      "WARNING:experta.watchers.ENGINE:Declaring fact before reset()\n"
     ]
    },
    {
     "name": "stdout",
     "output_type": "stream",
     "text": [
      "Medical Condition: No specific medical condition found.\n"
     ]
    }
   ],
   "source": [
    "from experta import *\n",
    "\n",
    "\n",
    "# Define the Facts (Patient Symptoms)\n",
    "class Symptom(Fact):\n",
    "    pass\n",
    "\n",
    "# Define the Medical Conditions\n",
    "class MedicalCondition(Fact):\n",
    "    pass\n",
    "\n",
    "\n",
    "# Define the Expert System Rules\n",
    "class MedicalDiagnosisExpertSystem(KnowledgeEngine):\n",
    "    @Rule(Symptom(cough=True) & Symptom(fever=True) & Symptom(fatigue=True))\n",
    "    def rule_flu(self):\n",
    "        self.declare(MedicalCondition(name=\"Flu\"))\n",
    "\n",
    "    @Rule(Symptom(headache=True) & Symptom(stiff_neck=True) & Symptom(fever=True))\n",
    "    def rule_meningitis(self):\n",
    "        self.declare(MedicalCondition(name=\"Meningitis\"))\n",
    "\n",
    "    @Rule(Symptom(rash=True) & Symptom(fever=True) & Symptom(joint_pain=True))\n",
    "    def rule_dengue(self):\n",
    "        self.declare(MedicalCondition(name=\"Dengue\"))\n",
    "\n",
    "    @Rule(Symptom(chest_pain=True) & Symptom(shortness_of_breath=True))\n",
    "    def rule_heart_attack(self):\n",
    "        self.declare(MedicalCondition(name=\"Heart Attack\"))\n",
    "\n",
    "\n",
    "# Function to run the Medical Diagnosis Expert System\n",
    "def run_medical_diagnosis_system(symptoms):\n",
    "    engine = MedicalDiagnosisExpertSystem()\n",
    "\n",
    "    for symptom, value in symptoms.items():\n",
    "        engine.declare(Symptom(**{symptom: value}))\n",
    "\n",
    "    engine.run()\n",
    "\n",
    "    # Get the output medical condition\n",
    "    condition = engine.facts.get(MedicalCondition)\n",
    "    if condition:\n",
    "        return condition['name']\n",
    "    else:\n",
    "        return \"No specific medical condition found.\"\n",
    "\n",
    "\n",
    "# Example Usage\n",
    "if __name__ == \"__main__\":\n",
    "    # Example symptoms (You can modify this dictionary with patient symptoms)\n",
    "    patient_symptoms = {\n",
    "        'cough': True,\n",
    "        'fever': True,\n",
    "        'fatigue': True,\n",
    "    }\n",
    "\n",
    "    medical_condition = run_medical_diagnosis_system(patient_symptoms)\n",
    "    print(\"Medical Condition:\", medical_condition)\n"
   ]
  },
  {
   "cell_type": "markdown",
   "metadata": {},
   "source": [
    "### 2. Knowledge Graphs:\n"
   ]
  },
  {
   "cell_type": "markdown",
   "metadata": {},
   "source": [
    "- Project: Movie Recommendation System\n",
    "- Description: Create a knowledge graph of movies, actors, genres, and user preferences to recommend personalized movies to users.\n",
    "- Techniques: RDF data representation, SPARQL querying, semantic similarity."
   ]
  },
  {
   "cell_type": "code",
   "execution_count": 4,
   "metadata": {},
   "outputs": [
    {
     "name": "stdout",
     "output_type": "stream",
     "text": [
      "Collecting rdflib\n",
      "  Using cached rdflib-6.3.2-py3-none-any.whl (528 kB)\n",
      "Collecting isodate<0.7.0,>=0.6.0 (from rdflib)\n",
      "  Using cached isodate-0.6.1-py2.py3-none-any.whl (41 kB)\n",
      "Collecting pyparsing<4,>=2.1.0 (from rdflib)\n",
      "  Obtaining dependency information for pyparsing<4,>=2.1.0 from https://files.pythonhosted.org/packages/a4/24/6ae4c9c45cf99d96b06b5d99e25526c060303171fb0aea9da2bfd7dbde93/pyparsing-3.1.0-py3-none-any.whl.metadata\n",
      "  Downloading pyparsing-3.1.0-py3-none-any.whl.metadata (4.9 kB)\n",
      "Requirement already satisfied: six in ./.conda/lib/python3.9/site-packages (from isodate<0.7.0,>=0.6.0->rdflib) (1.16.0)\n",
      "Using cached pyparsing-3.1.0-py3-none-any.whl (102 kB)\n",
      "Installing collected packages: pyparsing, isodate, rdflib\n",
      "Successfully installed isodate-0.6.1 pyparsing-3.1.0 rdflib-6.3.2\n"
     ]
    }
   ],
   "source": [
    "!pip install rdflib"
   ]
  },
  {
   "cell_type": "code",
   "execution_count": 7,
   "metadata": {},
   "outputs": [
    {
     "name": "stdout",
     "output_type": "stream",
     "text": [
      "Collecting SPARQLWrapper\n",
      "  Using cached SPARQLWrapper-2.0.0-py3-none-any.whl (28 kB)\n",
      "Requirement already satisfied: rdflib>=6.1.1 in ./.conda/lib/python3.9/site-packages (from SPARQLWrapper) (6.3.2)\n",
      "Requirement already satisfied: isodate<0.7.0,>=0.6.0 in ./.conda/lib/python3.9/site-packages (from rdflib>=6.1.1->SPARQLWrapper) (0.6.1)\n",
      "Requirement already satisfied: pyparsing<4,>=2.1.0 in ./.conda/lib/python3.9/site-packages (from rdflib>=6.1.1->SPARQLWrapper) (3.1.0)\n",
      "Requirement already satisfied: six in ./.conda/lib/python3.9/site-packages (from isodate<0.7.0,>=0.6.0->rdflib>=6.1.1->SPARQLWrapper) (1.16.0)\n",
      "Installing collected packages: SPARQLWrapper\n",
      "Successfully installed SPARQLWrapper-2.0.0\n"
     ]
    }
   ],
   "source": [
    "!pip install SPARQLWrapper\n"
   ]
  },
  {
   "cell_type": "code",
   "execution_count": 14,
   "metadata": {},
   "outputs": [
    {
     "name": "stdout",
     "output_type": "stream",
     "text": [
      "SPARQL Query for Movie Recommendation:\n",
      "\n",
      "    PREFIX movie: <http://example.org/movie_ontology#>\n",
      "    SELECT ?movie ?title\n",
      "    WHERE {\n",
      "        ?user movie:likes <http://dbpedia.org/resource/The_Matrix>.\n",
      "        ?movie movie:title ?title.\n",
      "    }\n",
      "\n",
      "\n",
      "Recommended Movies:\n"
     ]
    }
   ],
   "source": [
    "from rdflib import Graph, Literal, Namespace, RDF, URIRef\n",
    "from rdflib.namespace import FOAF\n",
    "from SPARQLWrapper import SPARQLWrapper, JSON\n",
    "\n",
    "# Create a Knowledge Graph\n",
    "graph = Graph()\n",
    "\n",
    "# Define namespaces\n",
    "DBPEDIA = Namespace(\"http://dbpedia.org/resource/\")\n",
    "MOVIE_ONTOLOGY = Namespace(\"http://example.org/movie_ontology#\")\n",
    "\n",
    "# Fetch movie data from DBpedia using SPARQL\n",
    "sparql_endpoint = \"https://dbpedia.org/sparql\"\n",
    "sparql_query = \"\"\"\n",
    "    PREFIX dbo: <http://dbpedia.org/ontology/>\n",
    "    PREFIX foaf: <http://xmlns.com/foaf/0.1/>\n",
    "    \n",
    "    SELECT ?movie ?title\n",
    "    WHERE {\n",
    "        ?movie a dbo:Film.\n",
    "        ?movie foaf:name ?title.\n",
    "        FILTER(LANG(?title) = \"\" || LANGMATCHES(LANG(?title), \"en\"))\n",
    "    }\n",
    "    LIMIT 10\n",
    "\"\"\"\n",
    "\n",
    "sparql = SPARQLWrapper(sparql_endpoint)\n",
    "sparql.setQuery(sparql_query)\n",
    "sparql.setReturnFormat(JSON)\n",
    "results = sparql.query().convert()\n",
    "\n",
    "# Add movie data to the graph\n",
    "if not results[\"results\"][\"bindings\"]:\n",
    "    raise ValueError(\"No movies found in the SPARQL results!\")\n",
    "\n",
    "for result in results[\"results\"][\"bindings\"]:\n",
    "    movie_uri = DBPEDIA[result[\"movie\"][\"value\"]]\n",
    "    graph.add((movie_uri, RDF.type, MOVIE_ONTOLOGY.Movie))\n",
    "    graph.add((movie_uri, MOVIE_ONTOLOGY.title, Literal(result[\"title\"][\"value\"])))\n",
    "\n",
    "# Define user preferences\n",
    "# Let's assume the user prefers the movie \"The Matrix\"\n",
    "user_pref = DBPEDIA[\"The_Matrix\"]\n",
    "\n",
    "# Add some movie likes for the user\n",
    "graph.add((URIRef(\"http://example.org/users/user1\"), MOVIE_ONTOLOGY.likes, user_pref))\n",
    "\n",
    "# Define SPARQL query to recommend movies to the user based on preferences\n",
    "sparql_query_recommendation = f\"\"\"\n",
    "    PREFIX movie: <http://example.org/movie_ontology#>\n",
    "    SELECT ?movie ?title\n",
    "    WHERE {{\n",
    "        ?user movie:likes <{user_pref}>.\n",
    "        ?movie movie:title ?title.\n",
    "    }}\n",
    "\"\"\"\n",
    "\n",
    "print(\"SPARQL Query for Movie Recommendation:\")\n",
    "print(sparql_query_recommendation)\n",
    "\n",
    "sparql_recommendation = SPARQLWrapper(sparql_endpoint)\n",
    "sparql_recommendation.setQuery(sparql_query_recommendation)\n",
    "sparql_recommendation.setReturnFormat(JSON)\n",
    "recommendations = sparql_recommendation.query().convert()\n",
    "\n",
    "# Print the recommended movies\n",
    "print(\"\\nRecommended Movies:\")\n",
    "for result in recommendations[\"results\"][\"bindings\"]:\n",
    "    print(result[\"title\"][\"value\"])\n"
   ]
  },
  {
   "cell_type": "code",
   "execution_count": null,
   "metadata": {},
   "outputs": [],
   "source": []
  }
 ],
 "metadata": {
  "kernelspec": {
   "display_name": "tf",
   "language": "python",
   "name": "python3"
  },
  "language_info": {
   "codemirror_mode": {
    "name": "ipython",
    "version": 3
   },
   "file_extension": ".py",
   "mimetype": "text/x-python",
   "name": "python",
   "nbconvert_exporter": "python",
   "pygments_lexer": "ipython3",
   "version": "3.9.16"
  },
  "orig_nbformat": 4
 },
 "nbformat": 4,
 "nbformat_minor": 2
}
