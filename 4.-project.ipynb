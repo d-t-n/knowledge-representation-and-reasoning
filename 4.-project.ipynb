{
 "cells": [
  {
   "cell_type": "markdown",
   "metadata": {},
   "source": [
    "# Project 4. Identify which knowledge-based techniques are appropriate for which task"
   ]
  },
  {
   "cell_type": "markdown",
   "metadata": {},
   "source": [
    "### 1. Expert Systems:\n",
    "- Project: Medical Diagnosis System\n",
    "- Description: Build an expert system that takes patient symptoms as input and provides potential medical conditions as output.\n",
    "- Techniques: Rule-based reasoning, forward chaining, inference engine."
   ]
  },
  {
   "cell_type": "markdown",
   "metadata": {},
   "source": [
    "To create an expert system for the Medical Diagnosis System, we'll use the pyknow library, which is a Python implementation of the CLIPS expert system shell. We'll define rules that infer potential medical conditions based on the patient's symptoms. Make sure you have the pyknow library installed before running the code. You can install it using pip install pyknow."
   ]
  },
  {
   "cell_type": "code",
   "execution_count": 2,
   "metadata": {},
   "outputs": [
    {
     "name": "stdout",
     "output_type": "stream",
     "text": [
      "Requirement already satisfied: experta in ./.conda/lib/python3.9/site-packages (1.9.4)\n",
      "Requirement already satisfied: frozendict==1.2 in ./.conda/lib/python3.9/site-packages (from experta) (1.2)\n",
      "Requirement already satisfied: schema==0.6.7 in ./.conda/lib/python3.9/site-packages (from experta) (0.6.7)\n"
     ]
    }
   ],
   "source": [
    "!pip install experta"
   ]
  },
  {
   "cell_type": "code",
   "execution_count": 3,
   "metadata": {},
   "outputs": [
    {
     "name": "stderr",
     "output_type": "stream",
     "text": [
      "WARNING:experta.watchers.ENGINE:Declaring fact before reset()\n"
     ]
    },
    {
     "name": "stdout",
     "output_type": "stream",
     "text": [
      "Medical Condition: No specific medical condition found.\n"
     ]
    }
   ],
   "source": [
    "from experta import *\n",
    "\n",
    "\n",
    "# Define the Facts (Patient Symptoms)\n",
    "class Symptom(Fact):\n",
    "    pass\n",
    "\n",
    "# Define the Medical Conditions\n",
    "class MedicalCondition(Fact):\n",
    "    pass\n",
    "\n",
    "\n",
    "# Define the Expert System Rules\n",
    "class MedicalDiagnosisExpertSystem(KnowledgeEngine):\n",
    "    @Rule(Symptom(cough=True) & Symptom(fever=True) & Symptom(fatigue=True))\n",
    "    def rule_flu(self):\n",
    "        self.declare(MedicalCondition(name=\"Flu\"))\n",
    "\n",
    "    @Rule(Symptom(headache=True) & Symptom(stiff_neck=True) & Symptom(fever=True))\n",
    "    def rule_meningitis(self):\n",
    "        self.declare(MedicalCondition(name=\"Meningitis\"))\n",
    "\n",
    "    @Rule(Symptom(rash=True) & Symptom(fever=True) & Symptom(joint_pain=True))\n",
    "    def rule_dengue(self):\n",
    "        self.declare(MedicalCondition(name=\"Dengue\"))\n",
    "\n",
    "    @Rule(Symptom(chest_pain=True) & Symptom(shortness_of_breath=True))\n",
    "    def rule_heart_attack(self):\n",
    "        self.declare(MedicalCondition(name=\"Heart Attack\"))\n",
    "\n",
    "\n",
    "# Function to run the Medical Diagnosis Expert System\n",
    "def run_medical_diagnosis_system(symptoms):\n",
    "    engine = MedicalDiagnosisExpertSystem()\n",
    "\n",
    "    for symptom, value in symptoms.items():\n",
    "        engine.declare(Symptom(**{symptom: value}))\n",
    "\n",
    "    engine.run()\n",
    "\n",
    "    # Get the output medical condition\n",
    "    condition = engine.facts.get(MedicalCondition)\n",
    "    if condition:\n",
    "        return condition['name']\n",
    "    else:\n",
    "        return \"No specific medical condition found.\"\n",
    "\n",
    "\n",
    "# Example Usage\n",
    "if __name__ == \"__main__\":\n",
    "    # Example symptoms (You can modify this dictionary with patient symptoms)\n",
    "    patient_symptoms = {\n",
    "        'cough': True,\n",
    "        'fever': True,\n",
    "        'fatigue': True,\n",
    "    }\n",
    "\n",
    "    medical_condition = run_medical_diagnosis_system(patient_symptoms)\n",
    "    print(\"Medical Condition:\", medical_condition)\n"
   ]
  },
  {
   "cell_type": "markdown",
   "metadata": {},
   "source": [
    "### 2. Knowledge Graphs:\n"
   ]
  },
  {
   "cell_type": "markdown",
   "metadata": {},
   "source": [
    "- Project: Movie Recommendation System\n",
    "- Description: Create a knowledge graph of movies, actors, genres, and user preferences to recommend personalized movies to users.\n",
    "- Techniques: RDF data representation, SPARQL querying, semantic similarity."
   ]
  },
  {
   "cell_type": "code",
   "execution_count": 4,
   "metadata": {},
   "outputs": [
    {
     "name": "stdout",
     "output_type": "stream",
     "text": [
      "Collecting rdflib\n",
      "  Using cached rdflib-6.3.2-py3-none-any.whl (528 kB)\n",
      "Collecting isodate<0.7.0,>=0.6.0 (from rdflib)\n",
      "  Using cached isodate-0.6.1-py2.py3-none-any.whl (41 kB)\n",
      "Collecting pyparsing<4,>=2.1.0 (from rdflib)\n",
      "  Obtaining dependency information for pyparsing<4,>=2.1.0 from https://files.pythonhosted.org/packages/a4/24/6ae4c9c45cf99d96b06b5d99e25526c060303171fb0aea9da2bfd7dbde93/pyparsing-3.1.0-py3-none-any.whl.metadata\n",
      "  Downloading pyparsing-3.1.0-py3-none-any.whl.metadata (4.9 kB)\n",
      "Requirement already satisfied: six in ./.conda/lib/python3.9/site-packages (from isodate<0.7.0,>=0.6.0->rdflib) (1.16.0)\n",
      "Using cached pyparsing-3.1.0-py3-none-any.whl (102 kB)\n",
      "Installing collected packages: pyparsing, isodate, rdflib\n",
      "Successfully installed isodate-0.6.1 pyparsing-3.1.0 rdflib-6.3.2\n"
     ]
    }
   ],
   "source": [
    "!pip install rdflib"
   ]
  },
  {
   "cell_type": "code",
   "execution_count": 7,
   "metadata": {},
   "outputs": [
    {
     "name": "stdout",
     "output_type": "stream",
     "text": [
      "Collecting SPARQLWrapper\n",
      "  Using cached SPARQLWrapper-2.0.0-py3-none-any.whl (28 kB)\n",
      "Requirement already satisfied: rdflib>=6.1.1 in ./.conda/lib/python3.9/site-packages (from SPARQLWrapper) (6.3.2)\n",
      "Requirement already satisfied: isodate<0.7.0,>=0.6.0 in ./.conda/lib/python3.9/site-packages (from rdflib>=6.1.1->SPARQLWrapper) (0.6.1)\n",
      "Requirement already satisfied: pyparsing<4,>=2.1.0 in ./.conda/lib/python3.9/site-packages (from rdflib>=6.1.1->SPARQLWrapper) (3.1.0)\n",
      "Requirement already satisfied: six in ./.conda/lib/python3.9/site-packages (from isodate<0.7.0,>=0.6.0->rdflib>=6.1.1->SPARQLWrapper) (1.16.0)\n",
      "Installing collected packages: SPARQLWrapper\n",
      "Successfully installed SPARQLWrapper-2.0.0\n"
     ]
    }
   ],
   "source": [
    "!pip install SPARQLWrapper\n"
   ]
  },
  {
   "cell_type": "code",
   "execution_count": 46,
   "metadata": {},
   "outputs": [
    {
     "name": "stdout",
     "output_type": "stream",
     "text": [
      "Fetched Movie Data:\n",
      "Beautiful Skin - http://dbpedia.org/resource/Electronic_music\n",
      "Beautiful Skin - http://dbpedia.org/resource/Post-punk\n",
      "Beautiful Skin - http://dbpedia.org/resource/Indie_music\n",
      "Private Lives - http://dbpedia.org/resource/Romantic_comedy\n",
      "Processional - http://dbpedia.org/resource/Modernist\n",
      "Puttur Narasimha Nayak - http://dbpedia.org/resource/Indian_classical\n",
      "Puttur Narasimha Nayak - http://dbpedia.org/resource/Bhajans\n",
      "Puttur Narasimha Nayak - http://dbpedia.org/resource/Playback_singing\n",
      "Quantum Gate - http://dbpedia.org/resource/Interactive_movie\n",
      "Scrabble Complete - http://dbpedia.org/resource/Puzzle_game\n"
     ]
    }
   ],
   "source": [
    "## Database\n",
    "# ...\n",
    "\n",
    "# Fetch movie data from DBpedia using SPARQL\n",
    "sparql_endpoint = \"https://dbpedia.org/sparql\"\n",
    "sparql_query = \"\"\"\n",
    "    PREFIX dbo: <http://dbpedia.org/ontology/>\n",
    "    PREFIX foaf: <http://xmlns.com/foaf/0.1/>\n",
    "    \n",
    "    SELECT ?movie ?title ?genre\n",
    "    WHERE {\n",
    "        ?movie a dbo:Film.\n",
    "        ?movie foaf:name ?title.\n",
    "        ?movie dbo:genre ?genre.\n",
    "        FILTER(LANG(?title) = \"\" || LANGMATCHES(LANG(?title), \"en\"))\n",
    "    }\n",
    "    LIMIT 10\n",
    "\"\"\"\n",
    "\n",
    "sparql = SPARQLWrapper(sparql_endpoint)\n",
    "sparql.setQuery(sparql_query)\n",
    "sparql.setReturnFormat(JSON)\n",
    "results = sparql.query().convert()\n",
    "\n",
    "# Print the fetched movie data\n",
    "print(\"Fetched Movie Data:\")\n",
    "for result in results[\"results\"][\"bindings\"]:\n",
    "    print(result[\"title\"][\"value\"], \"-\", result[\"genre\"][\"value\"])\n",
    "\n",
    "# ...\n"
   ]
  },
  {
   "cell_type": "code",
   "execution_count": 47,
   "metadata": {},
   "outputs": [],
   "source": [
    "def add_movie_data_to_graph(graph):\n",
    "    for movie_uri, movie_data in MOVIE_DATA.items():\n",
    "        graph.add((URIRef(movie_uri), RDF.type, MOVIE_ONTOLOGY.Movie))\n",
    "        graph.add((URIRef(movie_uri), FOAF.title, Literal(movie_data[\"title\"])))\n",
    "        graph.add((URIRef(movie_uri), MOVIE_ONTOLOGY.genre, URIRef(movie_data[\"genre\"])))\n"
   ]
  },
  {
   "cell_type": "code",
   "execution_count": 49,
   "metadata": {},
   "outputs": [],
   "source": [
    "def recommend_movies(graph, user_pref):\n",
    "    # Retrieve user's preferred movie genre\n",
    "    user_genre = next(graph.objects(subject=user_pref, predicate=MOVIE_ONTOLOGY.genre), None)\n",
    "    if not user_genre:\n",
    "        raise ValueError(\"No genre found for the user's preferred movie!\")\n",
    "\n",
    "    # Define SPARQL query to recommend movies with the same genre as the user's preferred movie\n",
    "    sparql_query_recommendation = f\"\"\"\n",
    "        PREFIX movie: <http://example.org/movie_ontology#>\n",
    "        SELECT ?movie ?title\n",
    "        WHERE {{\n",
    "            ?movie movie:genre <{user_genre}>.\n",
    "            FILTER (?movie != <{user_pref}>)\n",
    "            ?movie movie:title ?title.\n",
    "        }}\n",
    "    \"\"\"\n",
    "\n",
    "    # Execute the SPARQL query\n",
    "    results = graph.query(sparql_query_recommendation)\n",
    "\n",
    "    # Display recommended movies\n",
    "    print(\"Recommended Movies:\")\n",
    "    for result in results:\n",
    "        print(result[\"title\"].toPython())\n"
   ]
  },
  {
   "cell_type": "code",
   "execution_count": 58,
   "metadata": {},
   "outputs": [
    {
     "name": "stdout",
     "output_type": "stream",
     "text": [
      "Collecting requests\n",
      "  Obtaining dependency information for requests from https://files.pythonhosted.org/packages/70/8e/0e2d847013cb52cd35b38c009bb167a1a26b2ce6cd6965bf26b47bc0bf44/requests-2.31.0-py3-none-any.whl.metadata\n",
      "  Downloading requests-2.31.0-py3-none-any.whl.metadata (4.6 kB)\n",
      "Collecting charset-normalizer<4,>=2 (from requests)\n",
      "  Obtaining dependency information for charset-normalizer<4,>=2 from https://files.pythonhosted.org/packages/7b/c6/7f75892d87d7afcf8ed909f3e74de1bc61abd9d77cd9aab1f449430856c5/charset_normalizer-3.2.0-cp39-cp39-macosx_10_9_x86_64.whl.metadata\n",
      "  Downloading charset_normalizer-3.2.0-cp39-cp39-macosx_10_9_x86_64.whl.metadata (31 kB)\n",
      "Collecting idna<4,>=2.5 (from requests)\n",
      "  Using cached idna-3.4-py3-none-any.whl (61 kB)\n",
      "Collecting urllib3<3,>=1.21.1 (from requests)\n",
      "  Obtaining dependency information for urllib3<3,>=1.21.1 from https://files.pythonhosted.org/packages/9b/81/62fd61001fa4b9d0df6e31d47ff49cfa9de4af03adecf339c7bc30656b37/urllib3-2.0.4-py3-none-any.whl.metadata\n",
      "  Downloading urllib3-2.0.4-py3-none-any.whl.metadata (6.6 kB)\n",
      "Collecting certifi>=2017.4.17 (from requests)\n",
      "  Obtaining dependency information for certifi>=2017.4.17 from https://files.pythonhosted.org/packages/4c/dd/2234eab22353ffc7d94e8d13177aaa050113286e93e7b40eae01fbf7c3d9/certifi-2023.7.22-py3-none-any.whl.metadata\n",
      "  Downloading certifi-2023.7.22-py3-none-any.whl.metadata (2.2 kB)\n",
      "Using cached requests-2.31.0-py3-none-any.whl (62 kB)\n",
      "Downloading certifi-2023.7.22-py3-none-any.whl (158 kB)\n",
      "\u001b[2K   \u001b[90m━━━━━━━━━━━━━━━━━━━━━━━━━━━━━━━━━━━━━━━━\u001b[0m \u001b[32m158.3/158.3 kB\u001b[0m \u001b[31m2.9 MB/s\u001b[0m eta \u001b[36m0:00:00\u001b[0ma \u001b[36m0:00:01\u001b[0m\n",
      "\u001b[?25hDownloading charset_normalizer-3.2.0-cp39-cp39-macosx_10_9_x86_64.whl (126 kB)\n",
      "\u001b[2K   \u001b[90m━━━━━━━━━━━━━━━━━━━━━━━━━━━━━━━━━━━━━━━━\u001b[0m \u001b[32m126.4/126.4 kB\u001b[0m \u001b[31m1.9 MB/s\u001b[0m eta \u001b[36m0:00:00\u001b[0m \u001b[36m0:00:01\u001b[0m\n",
      "\u001b[?25hDownloading urllib3-2.0.4-py3-none-any.whl (123 kB)\n",
      "\u001b[2K   \u001b[90m━━━━━━━━━━━━━━━━━━━━━━━━━━━━━━━━━━━━━━━━\u001b[0m \u001b[32m123.9/123.9 kB\u001b[0m \u001b[31m1.4 MB/s\u001b[0m eta \u001b[36m0:00:00\u001b[0ma \u001b[36m0:00:01\u001b[0m\n",
      "\u001b[?25hInstalling collected packages: urllib3, idna, charset-normalizer, certifi, requests\n",
      "Successfully installed certifi-2023.7.22 charset-normalizer-3.2.0 idna-3.4 requests-2.31.0 urllib3-2.0.4\n"
     ]
    }
   ],
   "source": [
    "!pip install requests\n"
   ]
  },
  {
   "cell_type": "code",
   "execution_count": 60,
   "metadata": {},
   "outputs": [],
   "source": [
    "import os\n",
    "from rdflib import Graph, Namespace, RDF, Literal, URIRef\n",
    "\n",
    "# Get the absolute path to the TTL file\n",
    "ttl_file = os.path.abspath(\"movies.ttl\")\n",
    "\n",
    "# Fetch movie data from the TTL file and parse it\n",
    "graph = Graph()\n",
    "graph.parse(ttl_file, format=\"ttl\")\n",
    "\n",
    "# Define movie ontology namespace and classes\n",
    "MOVIE_ONTOLOGY = Namespace(\"http://example.org/movie_ontology#\")\n",
    "MOVIE = MOVIE_ONTOLOGY.Movie\n",
    "GENRE = MOVIE_ONTOLOGY.genre\n",
    "ACTOR = MOVIE_ONTOLOGY.actor\n"
   ]
  },
  {
   "cell_type": "code",
   "execution_count": 67,
   "metadata": {},
   "outputs": [
    {
     "name": "stdout",
     "output_type": "stream",
     "text": [
      "SPARQL Query for Movie Recommendation:\n",
      "\n",
      "\n",
      "    PREFIX movie: <http://example.org/movie_ontology#>\n",
      "    SELECT ?movie ?title\n",
      "    WHERE {\n",
      "        ?movie movie:genre <http://example.org/movie_ontology#Action> .\n",
      "        FILTER(?movie != <http://example.org/movie_ontology#movie1>)\n",
      "        ?movie movie:title ?title.\n",
      "    }\n",
      "\n",
      "\n",
      "Recommended Movies:\n"
     ]
    }
   ],
   "source": [
    "import os\n",
    "import requests\n",
    "from rdflib import Graph, Namespace, RDF, Literal, URIRef\n",
    "\n",
    "# Fetch movie data from the TTL file and parse it\n",
    "ttl_file = os.path.abspath(\"movies.ttl\")\n",
    "graph = Graph()\n",
    "graph.parse(ttl_file, format=\"ttl\")\n",
    "\n",
    "# Define movie ontology namespace and classes\n",
    "MOVIE_ONTOLOGY = Namespace(\"http://example.org/movie_ontology#\")\n",
    "MOVIE = MOVIE_ONTOLOGY.Movie\n",
    "GENRE = MOVIE_ONTOLOGY.genre\n",
    "ACTOR = MOVIE_ONTOLOGY.actor\n",
    "\n",
    "# Define the user namespace and preferences\n",
    "USER = Namespace(\"http://example.org/users/\")\n",
    "user_pref = list(graph.subjects(predicate=RDF.type, object=MOVIE))[0]\n",
    "\n",
    "# Get the user's preferred genre\n",
    "user_pref_genre = list(graph.objects(subject=user_pref, predicate=GENRE))[0]\n",
    "\n",
    "# Define SPARQL query to recommend movies to the user based on preferences\n",
    "sparql_query_recommendation = f\"\"\"\n",
    "    PREFIX movie: <http://example.org/movie_ontology#>\n",
    "    SELECT ?movie ?title\n",
    "    WHERE {{\n",
    "        ?movie movie:genre {user_pref_genre.n3()} .\n",
    "        FILTER(?movie != {user_pref.n3()})\n",
    "        ?movie movie:title ?title.\n",
    "    }}\n",
    "\"\"\"\n",
    "\n",
    "# Send the SPARQL query to the graph and get the results\n",
    "results = graph.query(sparql_query_recommendation)\n",
    "\n",
    "# Print the SPARQL query and recommended movies\n",
    "print(\"SPARQL Query for Movie Recommendation:\\n\")\n",
    "print(sparql_query_recommendation)\n",
    "\n",
    "print(\"\\nRecommended Movies:\")\n",
    "for result in results:\n",
    "    print(result.title)\n"
   ]
  },
  {
   "cell_type": "code",
   "execution_count": 68,
   "metadata": {},
   "outputs": [
    {
     "name": "stdout",
     "output_type": "stream",
     "text": [
      "SPARQL Query for Movie Recommendation:\n",
      "\n",
      "\n",
      "    PREFIX movie: <http://example.org/movie_ontology#>\n",
      "    SELECT ?movie ?title\n",
      "    WHERE {\n",
      "        ?movie movie:genre ?genre .\n",
      "        FILTER(?movie NOT IN (<http://example.org/movie_ontology#Action>))\n",
      "        ?movie movie:title ?title.\n",
      "    }\n",
      "\n",
      "\n",
      "Recommended Movies:\n",
      "The Matrix\n",
      "The Shawshank Redemption\n"
     ]
    }
   ],
   "source": [
    "import os\n",
    "import requests\n",
    "from rdflib import Graph, Namespace, RDF, Literal, URIRef\n",
    "\n",
    "# Fetch movie data from the TTL file and parse it\n",
    "ttl_file = os.path.abspath(\"movies.ttl\")\n",
    "graph = Graph()\n",
    "graph.parse(ttl_file, format=\"ttl\")\n",
    "\n",
    "# Define movie ontology namespace and classes\n",
    "MOVIE_ONTOLOGY = Namespace(\"http://example.org/movie_ontology#\")\n",
    "MOVIE = MOVIE_ONTOLOGY.Movie\n",
    "GENRE = MOVIE_ONTOLOGY.genre\n",
    "ACTOR = MOVIE_ONTOLOGY.actor\n",
    "\n",
    "# Define the user namespace and preferences\n",
    "USER = Namespace(\"http://example.org/users/\")\n",
    "user_pref = list(graph.subjects(predicate=RDF.type, object=MOVIE))[0]\n",
    "\n",
    "# Get the user's preferred genre\n",
    "user_pref_genres = list(graph.objects(subject=user_pref, predicate=GENRE))\n",
    "\n",
    "# Define SPARQL query to recommend movies to the user based on preferences\n",
    "sparql_query_recommendation = f\"\"\"\n",
    "    PREFIX movie: <http://example.org/movie_ontology#>\n",
    "    SELECT ?movie ?title\n",
    "    WHERE {{\n",
    "        ?movie movie:genre ?genre .\n",
    "        FILTER(?movie NOT IN ({\", \".join(genre.n3() for genre in user_pref_genres)}))\n",
    "        ?movie movie:title ?title.\n",
    "    }}\n",
    "\"\"\"\n",
    "\n",
    "# Send the SPARQL query to the graph and get the results\n",
    "results = graph.query(sparql_query_recommendation)\n",
    "\n",
    "# Print the SPARQL query and recommended movies\n",
    "print(\"SPARQL Query for Movie Recommendation:\\n\")\n",
    "print(sparql_query_recommendation)\n",
    "\n",
    "print(\"\\nRecommended Movies:\")\n",
    "for result in results:\n",
    "    print(result.title)\n"
   ]
  },
  {
   "cell_type": "code",
   "execution_count": null,
   "metadata": {},
   "outputs": [],
   "source": []
  }
 ],
 "metadata": {
  "kernelspec": {
   "display_name": "tf",
   "language": "python",
   "name": "python3"
  },
  "language_info": {
   "codemirror_mode": {
    "name": "ipython",
    "version": 3
   },
   "file_extension": ".py",
   "mimetype": "text/x-python",
   "name": "python",
   "nbconvert_exporter": "python",
   "pygments_lexer": "ipython3",
   "version": "3.9.16"
  },
  "orig_nbformat": 4
 },
 "nbformat": 4,
 "nbformat_minor": 2
}
