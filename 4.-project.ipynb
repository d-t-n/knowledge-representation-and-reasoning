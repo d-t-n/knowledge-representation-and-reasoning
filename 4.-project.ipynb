{
 "cells": [
  {
   "cell_type": "markdown",
   "metadata": {},
   "source": [
    "# Project 4. Identify which knowledge-based techniques are appropriate for which task"
   ]
  },
  {
   "cell_type": "markdown",
   "metadata": {},
   "source": [
    "### 1. Expert Systems:\n",
    "- Project: Medical Diagnosis System\n",
    "- Description: Build an expert system that takes patient symptoms as input and provides potential medical conditions as output.\n",
    "- Techniques: Rule-based reasoning, forward chaining, inference engine."
   ]
  },
  {
   "cell_type": "markdown",
   "metadata": {},
   "source": [
    "To create an expert system for the Medical Diagnosis System, we'll use the pyknow library, which is a Python implementation of the CLIPS expert system shell. We'll define rules that infer potential medical conditions based on the patient's symptoms. Make sure you have the pyknow library installed before running the code. You can install it using pip install pyknow."
   ]
  },
  {
   "cell_type": "code",
   "execution_count": 2,
   "metadata": {},
   "outputs": [
    {
     "name": "stdout",
     "output_type": "stream",
     "text": [
      "Requirement already satisfied: experta in ./.conda/lib/python3.9/site-packages (1.9.4)\n",
      "Requirement already satisfied: frozendict==1.2 in ./.conda/lib/python3.9/site-packages (from experta) (1.2)\n",
      "Requirement already satisfied: schema==0.6.7 in ./.conda/lib/python3.9/site-packages (from experta) (0.6.7)\n"
     ]
    }
   ],
   "source": [
    "!pip install experta"
   ]
  },
  {
   "cell_type": "code",
   "execution_count": 3,
   "metadata": {},
   "outputs": [
    {
     "name": "stderr",
     "output_type": "stream",
     "text": [
      "WARNING:experta.watchers.ENGINE:Declaring fact before reset()\n"
     ]
    },
    {
     "name": "stdout",
     "output_type": "stream",
     "text": [
      "Medical Condition: No specific medical condition found.\n"
     ]
    }
   ],
   "source": [
    "from experta import *\n",
    "\n",
    "\n",
    "# Define the Facts (Patient Symptoms)\n",
    "class Symptom(Fact):\n",
    "    pass\n",
    "\n",
    "# Define the Medical Conditions\n",
    "class MedicalCondition(Fact):\n",
    "    pass\n",
    "\n",
    "\n",
    "# Define the Expert System Rules\n",
    "class MedicalDiagnosisExpertSystem(KnowledgeEngine):\n",
    "    @Rule(Symptom(cough=True) & Symptom(fever=True) & Symptom(fatigue=True))\n",
    "    def rule_flu(self):\n",
    "        self.declare(MedicalCondition(name=\"Flu\"))\n",
    "\n",
    "    @Rule(Symptom(headache=True) & Symptom(stiff_neck=True) & Symptom(fever=True))\n",
    "    def rule_meningitis(self):\n",
    "        self.declare(MedicalCondition(name=\"Meningitis\"))\n",
    "\n",
    "    @Rule(Symptom(rash=True) & Symptom(fever=True) & Symptom(joint_pain=True))\n",
    "    def rule_dengue(self):\n",
    "        self.declare(MedicalCondition(name=\"Dengue\"))\n",
    "\n",
    "    @Rule(Symptom(chest_pain=True) & Symptom(shortness_of_breath=True))\n",
    "    def rule_heart_attack(self):\n",
    "        self.declare(MedicalCondition(name=\"Heart Attack\"))\n",
    "\n",
    "\n",
    "# Function to run the Medical Diagnosis Expert System\n",
    "def run_medical_diagnosis_system(symptoms):\n",
    "    engine = MedicalDiagnosisExpertSystem()\n",
    "\n",
    "    for symptom, value in symptoms.items():\n",
    "        engine.declare(Symptom(**{symptom: value}))\n",
    "\n",
    "    engine.run()\n",
    "\n",
    "    # Get the output medical condition\n",
    "    condition = engine.facts.get(MedicalCondition)\n",
    "    if condition:\n",
    "        return condition['name']\n",
    "    else:\n",
    "        return \"No specific medical condition found.\"\n",
    "\n",
    "\n",
    "# Example Usage\n",
    "if __name__ == \"__main__\":\n",
    "    # Example symptoms (You can modify this dictionary with patient symptoms)\n",
    "    patient_symptoms = {\n",
    "        'cough': True,\n",
    "        'fever': True,\n",
    "        'fatigue': True,\n",
    "    }\n",
    "\n",
    "    medical_condition = run_medical_diagnosis_system(patient_symptoms)\n",
    "    print(\"Medical Condition:\", medical_condition)\n"
   ]
  },
  {
   "cell_type": "code",
   "execution_count": null,
   "metadata": {},
   "outputs": [],
   "source": []
  }
 ],
 "metadata": {
  "kernelspec": {
   "display_name": "tf",
   "language": "python",
   "name": "python3"
  },
  "language_info": {
   "codemirror_mode": {
    "name": "ipython",
    "version": 3
   },
   "file_extension": ".py",
   "mimetype": "text/x-python",
   "name": "python",
   "nbconvert_exporter": "python",
   "pygments_lexer": "ipython3",
   "version": "3.9.16"
  },
  "orig_nbformat": 4
 },
 "nbformat": 4,
 "nbformat_minor": 2
}
